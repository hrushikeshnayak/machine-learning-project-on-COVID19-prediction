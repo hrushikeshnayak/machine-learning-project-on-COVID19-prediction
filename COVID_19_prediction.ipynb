{
  "cells": [
    {
      "cell_type": "markdown",
      "metadata": {
        "id": "iaSACKkU8_uQ"
      },
      "source": [
        "# Predicting COVID-19 Diagnosis Using Machine Learning Models: A Potential Tool for Early Identification and Isolation of Positive Cases"
      ]
    },
    {
      "cell_type": "markdown",
      "metadata": {
        "id": "lfW73TuU03XE"
      },
      "source": [
        "**1. Why is your proposal important in today's world?**\n",
        "\n",
        "*My proposal, which involves predicting COVID-19 diagnosis based on symptoms using machine learning models, is important because it can help in the early identification and isolation of COVID-19 positive patients, which is crucial in controlling the spread of the virus. While COVID-19 may not be currently prevalent, it is always possible for the virus to return in the future. The proposed method can aid in reducing the burden on healthcare systems by enabling early detection of positive cases, leading to timely medical intervention and potentially reducing the severity of the disease. Therefore, this project can serve as a valuable tool in the future if COVID-19 returns.*\n",
        "\n",
        "**2. How predicting a disease accurately can improve medical treatment?**\n",
        "\n",
        "*Predicting a disease accurately can help in early detection and timely medical intervention, leading to better treatment outcomes. In the case of COVID-19, early identification of positive cases can enable healthcare providers to isolate and treat patients promptly, potentially reducing the severity of the disease and preventing further transmission. Accurate disease prediction can also help in the development of targeted treatments and therapies, as well as the allocation of healthcare resources.*\n",
        "\n",
        "\n",
        "\n",
        "**3.what is the gap in the knowledge or how your proposed method can be helpful if required in the future for any other disease?**\n",
        "\n",
        "*The proposed method can be helpful in predicting the diagnosis of other diseases if similar data is available. However, one potential gap in the knowledge is the limited availability of labeled data for training machine learning models. This can be addressed by collecting more data and developing better data collection and labeling methods. Additionally, the proposed method can be further improved by incorporating additional data sources, such as medical history and demographics, to enhance the accuracy of the prediction model.*\n",
        "\n",
        "\n"
      ]
    },
    {
      "cell_type": "markdown",
      "metadata": {
        "id": "FTZWs-MQRqUl"
      },
      "source": [
        "Importing required libraries "
      ]
    },
    {
      "cell_type": "code",
      "execution_count": 1,
      "metadata": {
        "colab": {
          "base_uri": "https://localhost:8080/"
        },
        "id": "NWcV2RKnDJF_",
        "outputId": "d7b7762f-6f00-4c55-fef3-1c3a7d10a924"
      },
      "outputs": [
        {
          "output_type": "stream",
          "name": "stdout",
          "text": [
            "Drive already mounted at /content/drive; to attempt to forcibly remount, call drive.mount(\"/content/drive\", force_remount=True).\n"
          ]
        }
      ],
      "source": [
        "from google.colab import drive\n",
        "drive.mount('/content/drive')\n",
        "import numpy as np\n",
        "import pandas as pd\n",
        "import matplotlib.pyplot as plt\n",
        "import seaborn as sns\n",
        "import plotly.express as px"
      ]
    },
    {
      "cell_type": "markdown",
      "metadata": {
        "id": "dHBsRTcnRka9"
      },
      "source": [
        "First, we will load our dataset using Pandas' read_csv() function, and make a copy of the data to work with."
      ]
    },
    {
      "cell_type": "code",
      "execution_count": 2,
      "metadata": {
        "colab": {
          "base_uri": "https://localhost:8080/"
        },
        "id": "5T24SiPjPlMe",
        "outputId": "a7a0d262-cd00-4401-8532-aaaa8db23362"
      },
      "outputs": [
        {
          "output_type": "stream",
          "name": "stderr",
          "text": [
            "<ipython-input-2-acbf321e4f4f>:2: DtypeWarning: Columns (2,3,4,5,6) have mixed types. Specify dtype option on import or set low_memory=False.\n",
            "  data_raw = pd.read_csv('/content/drive/MyDrive/data sets /corona_tested_006.csv')\n"
          ]
        }
      ],
      "source": [
        "# Loading the raw data from the csv file\n",
        "data_raw = pd.read_csv('/content/drive/MyDrive/data sets /corona_tested_006.csv')\n",
        "\n",
        "# Creating a copy of the raw data to work with\n",
        "data = data_raw.copy()\n"
      ]
    },
    {
      "cell_type": "markdown",
      "metadata": {
        "id": "TjxPYmYgSA42"
      },
      "source": [
        "Next, we will explore our dataset to get a better understanding of its structure and contents. "
      ]
    },
    {
      "cell_type": "code",
      "execution_count": 3,
      "metadata": {
        "colab": {
          "base_uri": "https://localhost:8080/",
          "height": 206
        },
        "id": "SPKucX3aSRye",
        "outputId": "ca9e7353-9fac-48e0-e3da-da1e90dae34d"
      },
      "outputs": [
        {
          "output_type": "execute_result",
          "data": {
            "text/plain": [
              "   Ind_ID   Test_date Cough_symptoms  Fever Sore_throat Shortness_of_breath  \\\n",
              "0       1  11-03-2020           TRUE  FALSE        TRUE               FALSE   \n",
              "1       2  11-03-2020          FALSE   TRUE       FALSE               FALSE   \n",
              "2       3  11-03-2020          FALSE   TRUE       FALSE               FALSE   \n",
              "3       4  11-03-2020           TRUE  FALSE       FALSE               FALSE   \n",
              "4       5  11-03-2020           TRUE  FALSE       FALSE               FALSE   \n",
              "\n",
              "  Headache    Corona Age_60_above   Sex           Known_contact  \n",
              "0    FALSE  negative         None  None                  Abroad  \n",
              "1    FALSE  positive         None  None                  Abroad  \n",
              "2    FALSE  positive         None  None                  Abroad  \n",
              "3    FALSE  negative         None  None                  Abroad  \n",
              "4    FALSE  negative         None  None  Contact with confirmed  "
            ],
            "text/html": [
              "\n",
              "  <div id=\"df-053fc7e5-f021-4e44-bebd-0c86ab8540a1\">\n",
              "    <div class=\"colab-df-container\">\n",
              "      <div>\n",
              "<style scoped>\n",
              "    .dataframe tbody tr th:only-of-type {\n",
              "        vertical-align: middle;\n",
              "    }\n",
              "\n",
              "    .dataframe tbody tr th {\n",
              "        vertical-align: top;\n",
              "    }\n",
              "\n",
              "    .dataframe thead th {\n",
              "        text-align: right;\n",
              "    }\n",
              "</style>\n",
              "<table border=\"1\" class=\"dataframe\">\n",
              "  <thead>\n",
              "    <tr style=\"text-align: right;\">\n",
              "      <th></th>\n",
              "      <th>Ind_ID</th>\n",
              "      <th>Test_date</th>\n",
              "      <th>Cough_symptoms</th>\n",
              "      <th>Fever</th>\n",
              "      <th>Sore_throat</th>\n",
              "      <th>Shortness_of_breath</th>\n",
              "      <th>Headache</th>\n",
              "      <th>Corona</th>\n",
              "      <th>Age_60_above</th>\n",
              "      <th>Sex</th>\n",
              "      <th>Known_contact</th>\n",
              "    </tr>\n",
              "  </thead>\n",
              "  <tbody>\n",
              "    <tr>\n",
              "      <th>0</th>\n",
              "      <td>1</td>\n",
              "      <td>11-03-2020</td>\n",
              "      <td>TRUE</td>\n",
              "      <td>FALSE</td>\n",
              "      <td>TRUE</td>\n",
              "      <td>FALSE</td>\n",
              "      <td>FALSE</td>\n",
              "      <td>negative</td>\n",
              "      <td>None</td>\n",
              "      <td>None</td>\n",
              "      <td>Abroad</td>\n",
              "    </tr>\n",
              "    <tr>\n",
              "      <th>1</th>\n",
              "      <td>2</td>\n",
              "      <td>11-03-2020</td>\n",
              "      <td>FALSE</td>\n",
              "      <td>TRUE</td>\n",
              "      <td>FALSE</td>\n",
              "      <td>FALSE</td>\n",
              "      <td>FALSE</td>\n",
              "      <td>positive</td>\n",
              "      <td>None</td>\n",
              "      <td>None</td>\n",
              "      <td>Abroad</td>\n",
              "    </tr>\n",
              "    <tr>\n",
              "      <th>2</th>\n",
              "      <td>3</td>\n",
              "      <td>11-03-2020</td>\n",
              "      <td>FALSE</td>\n",
              "      <td>TRUE</td>\n",
              "      <td>FALSE</td>\n",
              "      <td>FALSE</td>\n",
              "      <td>FALSE</td>\n",
              "      <td>positive</td>\n",
              "      <td>None</td>\n",
              "      <td>None</td>\n",
              "      <td>Abroad</td>\n",
              "    </tr>\n",
              "    <tr>\n",
              "      <th>3</th>\n",
              "      <td>4</td>\n",
              "      <td>11-03-2020</td>\n",
              "      <td>TRUE</td>\n",
              "      <td>FALSE</td>\n",
              "      <td>FALSE</td>\n",
              "      <td>FALSE</td>\n",
              "      <td>FALSE</td>\n",
              "      <td>negative</td>\n",
              "      <td>None</td>\n",
              "      <td>None</td>\n",
              "      <td>Abroad</td>\n",
              "    </tr>\n",
              "    <tr>\n",
              "      <th>4</th>\n",
              "      <td>5</td>\n",
              "      <td>11-03-2020</td>\n",
              "      <td>TRUE</td>\n",
              "      <td>FALSE</td>\n",
              "      <td>FALSE</td>\n",
              "      <td>FALSE</td>\n",
              "      <td>FALSE</td>\n",
              "      <td>negative</td>\n",
              "      <td>None</td>\n",
              "      <td>None</td>\n",
              "      <td>Contact with confirmed</td>\n",
              "    </tr>\n",
              "  </tbody>\n",
              "</table>\n",
              "</div>\n",
              "      <button class=\"colab-df-convert\" onclick=\"convertToInteractive('df-053fc7e5-f021-4e44-bebd-0c86ab8540a1')\"\n",
              "              title=\"Convert this dataframe to an interactive table.\"\n",
              "              style=\"display:none;\">\n",
              "        \n",
              "  <svg xmlns=\"http://www.w3.org/2000/svg\" height=\"24px\"viewBox=\"0 0 24 24\"\n",
              "       width=\"24px\">\n",
              "    <path d=\"M0 0h24v24H0V0z\" fill=\"none\"/>\n",
              "    <path d=\"M18.56 5.44l.94 2.06.94-2.06 2.06-.94-2.06-.94-.94-2.06-.94 2.06-2.06.94zm-11 1L8.5 8.5l.94-2.06 2.06-.94-2.06-.94L8.5 2.5l-.94 2.06-2.06.94zm10 10l.94 2.06.94-2.06 2.06-.94-2.06-.94-.94-2.06-.94 2.06-2.06.94z\"/><path d=\"M17.41 7.96l-1.37-1.37c-.4-.4-.92-.59-1.43-.59-.52 0-1.04.2-1.43.59L10.3 9.45l-7.72 7.72c-.78.78-.78 2.05 0 2.83L4 21.41c.39.39.9.59 1.41.59.51 0 1.02-.2 1.41-.59l7.78-7.78 2.81-2.81c.8-.78.8-2.07 0-2.86zM5.41 20L4 18.59l7.72-7.72 1.47 1.35L5.41 20z\"/>\n",
              "  </svg>\n",
              "      </button>\n",
              "      \n",
              "  <style>\n",
              "    .colab-df-container {\n",
              "      display:flex;\n",
              "      flex-wrap:wrap;\n",
              "      gap: 12px;\n",
              "    }\n",
              "\n",
              "    .colab-df-convert {\n",
              "      background-color: #E8F0FE;\n",
              "      border: none;\n",
              "      border-radius: 50%;\n",
              "      cursor: pointer;\n",
              "      display: none;\n",
              "      fill: #1967D2;\n",
              "      height: 32px;\n",
              "      padding: 0 0 0 0;\n",
              "      width: 32px;\n",
              "    }\n",
              "\n",
              "    .colab-df-convert:hover {\n",
              "      background-color: #E2EBFA;\n",
              "      box-shadow: 0px 1px 2px rgba(60, 64, 67, 0.3), 0px 1px 3px 1px rgba(60, 64, 67, 0.15);\n",
              "      fill: #174EA6;\n",
              "    }\n",
              "\n",
              "    [theme=dark] .colab-df-convert {\n",
              "      background-color: #3B4455;\n",
              "      fill: #D2E3FC;\n",
              "    }\n",
              "\n",
              "    [theme=dark] .colab-df-convert:hover {\n",
              "      background-color: #434B5C;\n",
              "      box-shadow: 0px 1px 3px 1px rgba(0, 0, 0, 0.15);\n",
              "      filter: drop-shadow(0px 1px 2px rgba(0, 0, 0, 0.3));\n",
              "      fill: #FFFFFF;\n",
              "    }\n",
              "  </style>\n",
              "\n",
              "      <script>\n",
              "        const buttonEl =\n",
              "          document.querySelector('#df-053fc7e5-f021-4e44-bebd-0c86ab8540a1 button.colab-df-convert');\n",
              "        buttonEl.style.display =\n",
              "          google.colab.kernel.accessAllowed ? 'block' : 'none';\n",
              "\n",
              "        async function convertToInteractive(key) {\n",
              "          const element = document.querySelector('#df-053fc7e5-f021-4e44-bebd-0c86ab8540a1');\n",
              "          const dataTable =\n",
              "            await google.colab.kernel.invokeFunction('convertToInteractive',\n",
              "                                                     [key], {});\n",
              "          if (!dataTable) return;\n",
              "\n",
              "          const docLinkHtml = 'Like what you see? Visit the ' +\n",
              "            '<a target=\"_blank\" href=https://colab.research.google.com/notebooks/data_table.ipynb>data table notebook</a>'\n",
              "            + ' to learn more about interactive tables.';\n",
              "          element.innerHTML = '';\n",
              "          dataTable['output_type'] = 'display_data';\n",
              "          await google.colab.output.renderOutput(dataTable, element);\n",
              "          const docLink = document.createElement('div');\n",
              "          docLink.innerHTML = docLinkHtml;\n",
              "          element.appendChild(docLink);\n",
              "        }\n",
              "      </script>\n",
              "    </div>\n",
              "  </div>\n",
              "  "
            ]
          },
          "metadata": {},
          "execution_count": 3
        }
      ],
      "source": [
        "data.head() "
      ]
    },
    {
      "cell_type": "markdown",
      "metadata": {
        "id": "WZ5OsyIHJw3O"
      },
      "source": [
        "display the column data types and missing values"
      ]
    },
    {
      "cell_type": "code",
      "execution_count": 4,
      "metadata": {
        "colab": {
          "base_uri": "https://localhost:8080/"
        },
        "id": "viROg0laQF6f",
        "outputId": "990d4e9d-8a12-43ca-c15e-556f6dec41d5"
      },
      "outputs": [
        {
          "output_type": "stream",
          "name": "stdout",
          "text": [
            "<class 'pandas.core.frame.DataFrame'>\n",
            "RangeIndex: 278848 entries, 0 to 278847\n",
            "Data columns (total 11 columns):\n",
            " #   Column               Non-Null Count   Dtype \n",
            "---  ------               --------------   ----- \n",
            " 0   Ind_ID               278848 non-null  int64 \n",
            " 1   Test_date            278848 non-null  object\n",
            " 2   Cough_symptoms       278848 non-null  object\n",
            " 3   Fever                278848 non-null  object\n",
            " 4   Sore_throat          278848 non-null  object\n",
            " 5   Shortness_of_breath  278848 non-null  object\n",
            " 6   Headache             278848 non-null  object\n",
            " 7   Corona               278848 non-null  object\n",
            " 8   Age_60_above         278848 non-null  object\n",
            " 9   Sex                  278848 non-null  object\n",
            " 10  Known_contact        278848 non-null  object\n",
            "dtypes: int64(1), object(10)\n",
            "memory usage: 23.4+ MB\n"
          ]
        }
      ],
      "source": [
        "data.info()   "
      ]
    },
    {
      "cell_type": "code",
      "execution_count": 5,
      "metadata": {
        "colab": {
          "base_uri": "https://localhost:8080/",
          "height": 394
        },
        "id": "qt7-uPpySfd1",
        "outputId": "32fcf354-d543-4a5e-f7eb-e1572d029994"
      },
      "outputs": [
        {
          "output_type": "execute_result",
          "data": {
            "text/plain": [
              "               Ind_ID   Test_date Cough_symptoms   Fever Sore_throat  \\\n",
              "count   278848.000000      278848         278848  278848      278848   \n",
              "unique            NaN          51              5       5           5   \n",
              "top               NaN  20-04-2020          False   False       False   \n",
              "freq              NaN       10921         127531  137774      212584   \n",
              "mean    139424.500000         NaN            NaN     NaN         NaN   \n",
              "std      80496.628269         NaN            NaN     NaN         NaN   \n",
              "min          1.000000         NaN            NaN     NaN         NaN   \n",
              "25%      69712.750000         NaN            NaN     NaN         NaN   \n",
              "50%     139424.500000         NaN            NaN     NaN         NaN   \n",
              "75%     209136.250000         NaN            NaN     NaN         NaN   \n",
              "max     278848.000000         NaN            NaN     NaN         NaN   \n",
              "\n",
              "       Shortness_of_breath Headache    Corona Age_60_above     Sex  \\\n",
              "count               278848   278848    278848       278848  278848   \n",
              "unique                   5        5         3            3       3   \n",
              "top                  False    False  negative         None  female   \n",
              "freq                212842   212326    260227       127320  130158   \n",
              "mean                   NaN      NaN       NaN          NaN     NaN   \n",
              "std                    NaN      NaN       NaN          NaN     NaN   \n",
              "min                    NaN      NaN       NaN          NaN     NaN   \n",
              "25%                    NaN      NaN       NaN          NaN     NaN   \n",
              "50%                    NaN      NaN       NaN          NaN     NaN   \n",
              "75%                    NaN      NaN       NaN          NaN     NaN   \n",
              "max                    NaN      NaN       NaN          NaN     NaN   \n",
              "\n",
              "       Known_contact  \n",
              "count         278848  \n",
              "unique             3  \n",
              "top            Other  \n",
              "freq          242741  \n",
              "mean             NaN  \n",
              "std              NaN  \n",
              "min              NaN  \n",
              "25%              NaN  \n",
              "50%              NaN  \n",
              "75%              NaN  \n",
              "max              NaN  "
            ],
            "text/html": [
              "\n",
              "  <div id=\"df-0f5445fa-071b-4871-83da-d6bcd39246a3\">\n",
              "    <div class=\"colab-df-container\">\n",
              "      <div>\n",
              "<style scoped>\n",
              "    .dataframe tbody tr th:only-of-type {\n",
              "        vertical-align: middle;\n",
              "    }\n",
              "\n",
              "    .dataframe tbody tr th {\n",
              "        vertical-align: top;\n",
              "    }\n",
              "\n",
              "    .dataframe thead th {\n",
              "        text-align: right;\n",
              "    }\n",
              "</style>\n",
              "<table border=\"1\" class=\"dataframe\">\n",
              "  <thead>\n",
              "    <tr style=\"text-align: right;\">\n",
              "      <th></th>\n",
              "      <th>Ind_ID</th>\n",
              "      <th>Test_date</th>\n",
              "      <th>Cough_symptoms</th>\n",
              "      <th>Fever</th>\n",
              "      <th>Sore_throat</th>\n",
              "      <th>Shortness_of_breath</th>\n",
              "      <th>Headache</th>\n",
              "      <th>Corona</th>\n",
              "      <th>Age_60_above</th>\n",
              "      <th>Sex</th>\n",
              "      <th>Known_contact</th>\n",
              "    </tr>\n",
              "  </thead>\n",
              "  <tbody>\n",
              "    <tr>\n",
              "      <th>count</th>\n",
              "      <td>278848.000000</td>\n",
              "      <td>278848</td>\n",
              "      <td>278848</td>\n",
              "      <td>278848</td>\n",
              "      <td>278848</td>\n",
              "      <td>278848</td>\n",
              "      <td>278848</td>\n",
              "      <td>278848</td>\n",
              "      <td>278848</td>\n",
              "      <td>278848</td>\n",
              "      <td>278848</td>\n",
              "    </tr>\n",
              "    <tr>\n",
              "      <th>unique</th>\n",
              "      <td>NaN</td>\n",
              "      <td>51</td>\n",
              "      <td>5</td>\n",
              "      <td>5</td>\n",
              "      <td>5</td>\n",
              "      <td>5</td>\n",
              "      <td>5</td>\n",
              "      <td>3</td>\n",
              "      <td>3</td>\n",
              "      <td>3</td>\n",
              "      <td>3</td>\n",
              "    </tr>\n",
              "    <tr>\n",
              "      <th>top</th>\n",
              "      <td>NaN</td>\n",
              "      <td>20-04-2020</td>\n",
              "      <td>False</td>\n",
              "      <td>False</td>\n",
              "      <td>False</td>\n",
              "      <td>False</td>\n",
              "      <td>False</td>\n",
              "      <td>negative</td>\n",
              "      <td>None</td>\n",
              "      <td>female</td>\n",
              "      <td>Other</td>\n",
              "    </tr>\n",
              "    <tr>\n",
              "      <th>freq</th>\n",
              "      <td>NaN</td>\n",
              "      <td>10921</td>\n",
              "      <td>127531</td>\n",
              "      <td>137774</td>\n",
              "      <td>212584</td>\n",
              "      <td>212842</td>\n",
              "      <td>212326</td>\n",
              "      <td>260227</td>\n",
              "      <td>127320</td>\n",
              "      <td>130158</td>\n",
              "      <td>242741</td>\n",
              "    </tr>\n",
              "    <tr>\n",
              "      <th>mean</th>\n",
              "      <td>139424.500000</td>\n",
              "      <td>NaN</td>\n",
              "      <td>NaN</td>\n",
              "      <td>NaN</td>\n",
              "      <td>NaN</td>\n",
              "      <td>NaN</td>\n",
              "      <td>NaN</td>\n",
              "      <td>NaN</td>\n",
              "      <td>NaN</td>\n",
              "      <td>NaN</td>\n",
              "      <td>NaN</td>\n",
              "    </tr>\n",
              "    <tr>\n",
              "      <th>std</th>\n",
              "      <td>80496.628269</td>\n",
              "      <td>NaN</td>\n",
              "      <td>NaN</td>\n",
              "      <td>NaN</td>\n",
              "      <td>NaN</td>\n",
              "      <td>NaN</td>\n",
              "      <td>NaN</td>\n",
              "      <td>NaN</td>\n",
              "      <td>NaN</td>\n",
              "      <td>NaN</td>\n",
              "      <td>NaN</td>\n",
              "    </tr>\n",
              "    <tr>\n",
              "      <th>min</th>\n",
              "      <td>1.000000</td>\n",
              "      <td>NaN</td>\n",
              "      <td>NaN</td>\n",
              "      <td>NaN</td>\n",
              "      <td>NaN</td>\n",
              "      <td>NaN</td>\n",
              "      <td>NaN</td>\n",
              "      <td>NaN</td>\n",
              "      <td>NaN</td>\n",
              "      <td>NaN</td>\n",
              "      <td>NaN</td>\n",
              "    </tr>\n",
              "    <tr>\n",
              "      <th>25%</th>\n",
              "      <td>69712.750000</td>\n",
              "      <td>NaN</td>\n",
              "      <td>NaN</td>\n",
              "      <td>NaN</td>\n",
              "      <td>NaN</td>\n",
              "      <td>NaN</td>\n",
              "      <td>NaN</td>\n",
              "      <td>NaN</td>\n",
              "      <td>NaN</td>\n",
              "      <td>NaN</td>\n",
              "      <td>NaN</td>\n",
              "    </tr>\n",
              "    <tr>\n",
              "      <th>50%</th>\n",
              "      <td>139424.500000</td>\n",
              "      <td>NaN</td>\n",
              "      <td>NaN</td>\n",
              "      <td>NaN</td>\n",
              "      <td>NaN</td>\n",
              "      <td>NaN</td>\n",
              "      <td>NaN</td>\n",
              "      <td>NaN</td>\n",
              "      <td>NaN</td>\n",
              "      <td>NaN</td>\n",
              "      <td>NaN</td>\n",
              "    </tr>\n",
              "    <tr>\n",
              "      <th>75%</th>\n",
              "      <td>209136.250000</td>\n",
              "      <td>NaN</td>\n",
              "      <td>NaN</td>\n",
              "      <td>NaN</td>\n",
              "      <td>NaN</td>\n",
              "      <td>NaN</td>\n",
              "      <td>NaN</td>\n",
              "      <td>NaN</td>\n",
              "      <td>NaN</td>\n",
              "      <td>NaN</td>\n",
              "      <td>NaN</td>\n",
              "    </tr>\n",
              "    <tr>\n",
              "      <th>max</th>\n",
              "      <td>278848.000000</td>\n",
              "      <td>NaN</td>\n",
              "      <td>NaN</td>\n",
              "      <td>NaN</td>\n",
              "      <td>NaN</td>\n",
              "      <td>NaN</td>\n",
              "      <td>NaN</td>\n",
              "      <td>NaN</td>\n",
              "      <td>NaN</td>\n",
              "      <td>NaN</td>\n",
              "      <td>NaN</td>\n",
              "    </tr>\n",
              "  </tbody>\n",
              "</table>\n",
              "</div>\n",
              "      <button class=\"colab-df-convert\" onclick=\"convertToInteractive('df-0f5445fa-071b-4871-83da-d6bcd39246a3')\"\n",
              "              title=\"Convert this dataframe to an interactive table.\"\n",
              "              style=\"display:none;\">\n",
              "        \n",
              "  <svg xmlns=\"http://www.w3.org/2000/svg\" height=\"24px\"viewBox=\"0 0 24 24\"\n",
              "       width=\"24px\">\n",
              "    <path d=\"M0 0h24v24H0V0z\" fill=\"none\"/>\n",
              "    <path d=\"M18.56 5.44l.94 2.06.94-2.06 2.06-.94-2.06-.94-.94-2.06-.94 2.06-2.06.94zm-11 1L8.5 8.5l.94-2.06 2.06-.94-2.06-.94L8.5 2.5l-.94 2.06-2.06.94zm10 10l.94 2.06.94-2.06 2.06-.94-2.06-.94-.94-2.06-.94 2.06-2.06.94z\"/><path d=\"M17.41 7.96l-1.37-1.37c-.4-.4-.92-.59-1.43-.59-.52 0-1.04.2-1.43.59L10.3 9.45l-7.72 7.72c-.78.78-.78 2.05 0 2.83L4 21.41c.39.39.9.59 1.41.59.51 0 1.02-.2 1.41-.59l7.78-7.78 2.81-2.81c.8-.78.8-2.07 0-2.86zM5.41 20L4 18.59l7.72-7.72 1.47 1.35L5.41 20z\"/>\n",
              "  </svg>\n",
              "      </button>\n",
              "      \n",
              "  <style>\n",
              "    .colab-df-container {\n",
              "      display:flex;\n",
              "      flex-wrap:wrap;\n",
              "      gap: 12px;\n",
              "    }\n",
              "\n",
              "    .colab-df-convert {\n",
              "      background-color: #E8F0FE;\n",
              "      border: none;\n",
              "      border-radius: 50%;\n",
              "      cursor: pointer;\n",
              "      display: none;\n",
              "      fill: #1967D2;\n",
              "      height: 32px;\n",
              "      padding: 0 0 0 0;\n",
              "      width: 32px;\n",
              "    }\n",
              "\n",
              "    .colab-df-convert:hover {\n",
              "      background-color: #E2EBFA;\n",
              "      box-shadow: 0px 1px 2px rgba(60, 64, 67, 0.3), 0px 1px 3px 1px rgba(60, 64, 67, 0.15);\n",
              "      fill: #174EA6;\n",
              "    }\n",
              "\n",
              "    [theme=dark] .colab-df-convert {\n",
              "      background-color: #3B4455;\n",
              "      fill: #D2E3FC;\n",
              "    }\n",
              "\n",
              "    [theme=dark] .colab-df-convert:hover {\n",
              "      background-color: #434B5C;\n",
              "      box-shadow: 0px 1px 3px 1px rgba(0, 0, 0, 0.15);\n",
              "      filter: drop-shadow(0px 1px 2px rgba(0, 0, 0, 0.3));\n",
              "      fill: #FFFFFF;\n",
              "    }\n",
              "  </style>\n",
              "\n",
              "      <script>\n",
              "        const buttonEl =\n",
              "          document.querySelector('#df-0f5445fa-071b-4871-83da-d6bcd39246a3 button.colab-df-convert');\n",
              "        buttonEl.style.display =\n",
              "          google.colab.kernel.accessAllowed ? 'block' : 'none';\n",
              "\n",
              "        async function convertToInteractive(key) {\n",
              "          const element = document.querySelector('#df-0f5445fa-071b-4871-83da-d6bcd39246a3');\n",
              "          const dataTable =\n",
              "            await google.colab.kernel.invokeFunction('convertToInteractive',\n",
              "                                                     [key], {});\n",
              "          if (!dataTable) return;\n",
              "\n",
              "          const docLinkHtml = 'Like what you see? Visit the ' +\n",
              "            '<a target=\"_blank\" href=https://colab.research.google.com/notebooks/data_table.ipynb>data table notebook</a>'\n",
              "            + ' to learn more about interactive tables.';\n",
              "          element.innerHTML = '';\n",
              "          dataTable['output_type'] = 'display_data';\n",
              "          await google.colab.output.renderOutput(dataTable, element);\n",
              "          const docLink = document.createElement('div');\n",
              "          docLink.innerHTML = docLinkHtml;\n",
              "          element.appendChild(docLink);\n",
              "        }\n",
              "      </script>\n",
              "    </div>\n",
              "  </div>\n",
              "  "
            ]
          },
          "metadata": {},
          "execution_count": 5
        }
      ],
      "source": [
        "data.describe(include = 'all')  "
      ]
    },
    {
      "cell_type": "markdown",
      "metadata": {
        "id": "9PEwXHMyJ3wV"
      },
      "source": [
        "display 10 random rows from the dataset"
      ]
    },
    {
      "cell_type": "code",
      "execution_count": 6,
      "metadata": {
        "colab": {
          "base_uri": "https://localhost:8080/",
          "height": 363
        },
        "id": "bSxbQqw6Sg0n",
        "outputId": "ce03526b-0ef1-4e5c-8b39-6c67387bbb89"
      },
      "outputs": [
        {
          "output_type": "execute_result",
          "data": {
            "text/plain": [
              "        Ind_ID   Test_date Cough_symptoms  Fever Sore_throat  \\\n",
              "211719  211720  21-04-2020          False  False       False   \n",
              "213537  213538  21-04-2020          False  False       False   \n",
              "200071  200072  20-04-2020          False  False       False   \n",
              "41720    41721  27-03-2020          FALSE  FALSE       FALSE   \n",
              "244847  244848  25-04-2020          False  False       False   \n",
              "193900  193901  19-04-2020          False  False       False   \n",
              "193044  193045  19-04-2020          False  False       False   \n",
              "142059  142060  13-04-2020          False  False       False   \n",
              "70936    70937  01-04-2020          FALSE  FALSE       False   \n",
              "160950  160951  15-04-2020          False  False       False   \n",
              "\n",
              "       Shortness_of_breath Headache    Corona Age_60_above     Sex  \\\n",
              "211719               False    False  negative         None  female   \n",
              "213537               False    False  negative         None    male   \n",
              "200071               False    False  negative         None  female   \n",
              "41720                FALSE    FALSE  negative           No  female   \n",
              "244847               False    False  negative         None  female   \n",
              "193900               False    False  negative         None  female   \n",
              "193044               False    False  negative         None  female   \n",
              "142059               False    False  negative           No    male   \n",
              "70936                False    False  negative           No  female   \n",
              "160950               False    False  negative         None  female   \n",
              "\n",
              "       Known_contact  \n",
              "211719         Other  \n",
              "213537         Other  \n",
              "200071         Other  \n",
              "41720          Other  \n",
              "244847         Other  \n",
              "193900         Other  \n",
              "193044         Other  \n",
              "142059         Other  \n",
              "70936          Other  \n",
              "160950         Other  "
            ],
            "text/html": [
              "\n",
              "  <div id=\"df-44abb1b1-231f-41bc-be74-23197f38cd80\">\n",
              "    <div class=\"colab-df-container\">\n",
              "      <div>\n",
              "<style scoped>\n",
              "    .dataframe tbody tr th:only-of-type {\n",
              "        vertical-align: middle;\n",
              "    }\n",
              "\n",
              "    .dataframe tbody tr th {\n",
              "        vertical-align: top;\n",
              "    }\n",
              "\n",
              "    .dataframe thead th {\n",
              "        text-align: right;\n",
              "    }\n",
              "</style>\n",
              "<table border=\"1\" class=\"dataframe\">\n",
              "  <thead>\n",
              "    <tr style=\"text-align: right;\">\n",
              "      <th></th>\n",
              "      <th>Ind_ID</th>\n",
              "      <th>Test_date</th>\n",
              "      <th>Cough_symptoms</th>\n",
              "      <th>Fever</th>\n",
              "      <th>Sore_throat</th>\n",
              "      <th>Shortness_of_breath</th>\n",
              "      <th>Headache</th>\n",
              "      <th>Corona</th>\n",
              "      <th>Age_60_above</th>\n",
              "      <th>Sex</th>\n",
              "      <th>Known_contact</th>\n",
              "    </tr>\n",
              "  </thead>\n",
              "  <tbody>\n",
              "    <tr>\n",
              "      <th>211719</th>\n",
              "      <td>211720</td>\n",
              "      <td>21-04-2020</td>\n",
              "      <td>False</td>\n",
              "      <td>False</td>\n",
              "      <td>False</td>\n",
              "      <td>False</td>\n",
              "      <td>False</td>\n",
              "      <td>negative</td>\n",
              "      <td>None</td>\n",
              "      <td>female</td>\n",
              "      <td>Other</td>\n",
              "    </tr>\n",
              "    <tr>\n",
              "      <th>213537</th>\n",
              "      <td>213538</td>\n",
              "      <td>21-04-2020</td>\n",
              "      <td>False</td>\n",
              "      <td>False</td>\n",
              "      <td>False</td>\n",
              "      <td>False</td>\n",
              "      <td>False</td>\n",
              "      <td>negative</td>\n",
              "      <td>None</td>\n",
              "      <td>male</td>\n",
              "      <td>Other</td>\n",
              "    </tr>\n",
              "    <tr>\n",
              "      <th>200071</th>\n",
              "      <td>200072</td>\n",
              "      <td>20-04-2020</td>\n",
              "      <td>False</td>\n",
              "      <td>False</td>\n",
              "      <td>False</td>\n",
              "      <td>False</td>\n",
              "      <td>False</td>\n",
              "      <td>negative</td>\n",
              "      <td>None</td>\n",
              "      <td>female</td>\n",
              "      <td>Other</td>\n",
              "    </tr>\n",
              "    <tr>\n",
              "      <th>41720</th>\n",
              "      <td>41721</td>\n",
              "      <td>27-03-2020</td>\n",
              "      <td>FALSE</td>\n",
              "      <td>FALSE</td>\n",
              "      <td>FALSE</td>\n",
              "      <td>FALSE</td>\n",
              "      <td>FALSE</td>\n",
              "      <td>negative</td>\n",
              "      <td>No</td>\n",
              "      <td>female</td>\n",
              "      <td>Other</td>\n",
              "    </tr>\n",
              "    <tr>\n",
              "      <th>244847</th>\n",
              "      <td>244848</td>\n",
              "      <td>25-04-2020</td>\n",
              "      <td>False</td>\n",
              "      <td>False</td>\n",
              "      <td>False</td>\n",
              "      <td>False</td>\n",
              "      <td>False</td>\n",
              "      <td>negative</td>\n",
              "      <td>None</td>\n",
              "      <td>female</td>\n",
              "      <td>Other</td>\n",
              "    </tr>\n",
              "    <tr>\n",
              "      <th>193900</th>\n",
              "      <td>193901</td>\n",
              "      <td>19-04-2020</td>\n",
              "      <td>False</td>\n",
              "      <td>False</td>\n",
              "      <td>False</td>\n",
              "      <td>False</td>\n",
              "      <td>False</td>\n",
              "      <td>negative</td>\n",
              "      <td>None</td>\n",
              "      <td>female</td>\n",
              "      <td>Other</td>\n",
              "    </tr>\n",
              "    <tr>\n",
              "      <th>193044</th>\n",
              "      <td>193045</td>\n",
              "      <td>19-04-2020</td>\n",
              "      <td>False</td>\n",
              "      <td>False</td>\n",
              "      <td>False</td>\n",
              "      <td>False</td>\n",
              "      <td>False</td>\n",
              "      <td>negative</td>\n",
              "      <td>None</td>\n",
              "      <td>female</td>\n",
              "      <td>Other</td>\n",
              "    </tr>\n",
              "    <tr>\n",
              "      <th>142059</th>\n",
              "      <td>142060</td>\n",
              "      <td>13-04-2020</td>\n",
              "      <td>False</td>\n",
              "      <td>False</td>\n",
              "      <td>False</td>\n",
              "      <td>False</td>\n",
              "      <td>False</td>\n",
              "      <td>negative</td>\n",
              "      <td>No</td>\n",
              "      <td>male</td>\n",
              "      <td>Other</td>\n",
              "    </tr>\n",
              "    <tr>\n",
              "      <th>70936</th>\n",
              "      <td>70937</td>\n",
              "      <td>01-04-2020</td>\n",
              "      <td>FALSE</td>\n",
              "      <td>FALSE</td>\n",
              "      <td>False</td>\n",
              "      <td>False</td>\n",
              "      <td>False</td>\n",
              "      <td>negative</td>\n",
              "      <td>No</td>\n",
              "      <td>female</td>\n",
              "      <td>Other</td>\n",
              "    </tr>\n",
              "    <tr>\n",
              "      <th>160950</th>\n",
              "      <td>160951</td>\n",
              "      <td>15-04-2020</td>\n",
              "      <td>False</td>\n",
              "      <td>False</td>\n",
              "      <td>False</td>\n",
              "      <td>False</td>\n",
              "      <td>False</td>\n",
              "      <td>negative</td>\n",
              "      <td>None</td>\n",
              "      <td>female</td>\n",
              "      <td>Other</td>\n",
              "    </tr>\n",
              "  </tbody>\n",
              "</table>\n",
              "</div>\n",
              "      <button class=\"colab-df-convert\" onclick=\"convertToInteractive('df-44abb1b1-231f-41bc-be74-23197f38cd80')\"\n",
              "              title=\"Convert this dataframe to an interactive table.\"\n",
              "              style=\"display:none;\">\n",
              "        \n",
              "  <svg xmlns=\"http://www.w3.org/2000/svg\" height=\"24px\"viewBox=\"0 0 24 24\"\n",
              "       width=\"24px\">\n",
              "    <path d=\"M0 0h24v24H0V0z\" fill=\"none\"/>\n",
              "    <path d=\"M18.56 5.44l.94 2.06.94-2.06 2.06-.94-2.06-.94-.94-2.06-.94 2.06-2.06.94zm-11 1L8.5 8.5l.94-2.06 2.06-.94-2.06-.94L8.5 2.5l-.94 2.06-2.06.94zm10 10l.94 2.06.94-2.06 2.06-.94-2.06-.94-.94-2.06-.94 2.06-2.06.94z\"/><path d=\"M17.41 7.96l-1.37-1.37c-.4-.4-.92-.59-1.43-.59-.52 0-1.04.2-1.43.59L10.3 9.45l-7.72 7.72c-.78.78-.78 2.05 0 2.83L4 21.41c.39.39.9.59 1.41.59.51 0 1.02-.2 1.41-.59l7.78-7.78 2.81-2.81c.8-.78.8-2.07 0-2.86zM5.41 20L4 18.59l7.72-7.72 1.47 1.35L5.41 20z\"/>\n",
              "  </svg>\n",
              "      </button>\n",
              "      \n",
              "  <style>\n",
              "    .colab-df-container {\n",
              "      display:flex;\n",
              "      flex-wrap:wrap;\n",
              "      gap: 12px;\n",
              "    }\n",
              "\n",
              "    .colab-df-convert {\n",
              "      background-color: #E8F0FE;\n",
              "      border: none;\n",
              "      border-radius: 50%;\n",
              "      cursor: pointer;\n",
              "      display: none;\n",
              "      fill: #1967D2;\n",
              "      height: 32px;\n",
              "      padding: 0 0 0 0;\n",
              "      width: 32px;\n",
              "    }\n",
              "\n",
              "    .colab-df-convert:hover {\n",
              "      background-color: #E2EBFA;\n",
              "      box-shadow: 0px 1px 2px rgba(60, 64, 67, 0.3), 0px 1px 3px 1px rgba(60, 64, 67, 0.15);\n",
              "      fill: #174EA6;\n",
              "    }\n",
              "\n",
              "    [theme=dark] .colab-df-convert {\n",
              "      background-color: #3B4455;\n",
              "      fill: #D2E3FC;\n",
              "    }\n",
              "\n",
              "    [theme=dark] .colab-df-convert:hover {\n",
              "      background-color: #434B5C;\n",
              "      box-shadow: 0px 1px 3px 1px rgba(0, 0, 0, 0.15);\n",
              "      filter: drop-shadow(0px 1px 2px rgba(0, 0, 0, 0.3));\n",
              "      fill: #FFFFFF;\n",
              "    }\n",
              "  </style>\n",
              "\n",
              "      <script>\n",
              "        const buttonEl =\n",
              "          document.querySelector('#df-44abb1b1-231f-41bc-be74-23197f38cd80 button.colab-df-convert');\n",
              "        buttonEl.style.display =\n",
              "          google.colab.kernel.accessAllowed ? 'block' : 'none';\n",
              "\n",
              "        async function convertToInteractive(key) {\n",
              "          const element = document.querySelector('#df-44abb1b1-231f-41bc-be74-23197f38cd80');\n",
              "          const dataTable =\n",
              "            await google.colab.kernel.invokeFunction('convertToInteractive',\n",
              "                                                     [key], {});\n",
              "          if (!dataTable) return;\n",
              "\n",
              "          const docLinkHtml = 'Like what you see? Visit the ' +\n",
              "            '<a target=\"_blank\" href=https://colab.research.google.com/notebooks/data_table.ipynb>data table notebook</a>'\n",
              "            + ' to learn more about interactive tables.';\n",
              "          element.innerHTML = '';\n",
              "          dataTable['output_type'] = 'display_data';\n",
              "          await google.colab.output.renderOutput(dataTable, element);\n",
              "          const docLink = document.createElement('div');\n",
              "          docLink.innerHTML = docLinkHtml;\n",
              "          element.appendChild(docLink);\n",
              "        }\n",
              "      </script>\n",
              "    </div>\n",
              "  </div>\n",
              "  "
            ]
          },
          "metadata": {},
          "execution_count": 6
        }
      ],
      "source": [
        "data.sample(10)   \n"
      ]
    },
    {
      "cell_type": "code",
      "execution_count": 7,
      "metadata": {
        "colab": {
          "base_uri": "https://localhost:8080/"
        },
        "id": "raTpzFyITHfl",
        "outputId": "c73e391b-6f1c-4237-b24d-90a81c9da2c7"
      },
      "outputs": [
        {
          "output_type": "execute_result",
          "data": {
            "text/plain": [
              "(278848, 11)"
            ]
          },
          "metadata": {},
          "execution_count": 7
        }
      ],
      "source": [
        "data.shape"
      ]
    },
    {
      "cell_type": "markdown",
      "metadata": {
        "id": "4NLWC8Z8KCxs"
      },
      "source": [
        "Checking unique values in Test_date column"
      ]
    },
    {
      "cell_type": "code",
      "execution_count": 8,
      "metadata": {
        "colab": {
          "base_uri": "https://localhost:8080/"
        },
        "id": "gb4OW-cC9wXY",
        "outputId": "6966c411-4a12-4904-9e4c-322eb8bd6399"
      },
      "outputs": [
        {
          "output_type": "execute_result",
          "data": {
            "text/plain": [
              "array(['11-03-2020', '12-03-2020', '13-03-2020', '14-03-2020',\n",
              "       '15-03-2020', '16-03-2020', '17-03-2020', '18-03-2020',\n",
              "       '19-03-2020', '20-03-2020', '21-03-2020', '22-03-2020',\n",
              "       '23-03-2020', '24-03-2020', '25-03-2020', '26-03-2020',\n",
              "       '27-03-2020', '28-03-2020', '29-03-2020', '30-03-2020',\n",
              "       '31-03-2020', '01-04-2020', '02-04-2020', '03-04-2020',\n",
              "       '04-04-2020', '05-04-2020', '06-04-2020', '07-04-2020',\n",
              "       '08-04-2020', '09-04-2020', '10-04-2020', '11-04-2020',\n",
              "       '12-04-2020', '13-04-2020', '14-04-2020', '15-04-2020',\n",
              "       '16-04-2020', '17-04-2020', '18-04-2020', '19-04-2020',\n",
              "       '20-04-2020', '21-04-2020', '22-04-2020', '23-04-2020',\n",
              "       '24-04-2020', '25-04-2020', '26-04-2020', '27-04-2020',\n",
              "       '28-04-2020', '29-04-2020', '30-04-2020'], dtype=object)"
            ]
          },
          "metadata": {},
          "execution_count": 8
        }
      ],
      "source": [
        "data['Test_date'].unique()"
      ]
    },
    {
      "cell_type": "code",
      "execution_count": 9,
      "metadata": {
        "colab": {
          "base_uri": "https://localhost:8080/"
        },
        "id": "kaxZp0QnXBw1",
        "outputId": "350eede8-7093-4482-ee63-653e48aab5c3"
      },
      "outputs": [
        {
          "output_type": "execute_result",
          "data": {
            "text/plain": [
              "0         11-03-2020\n",
              "1         11-03-2020\n",
              "2         11-03-2020\n",
              "3         11-03-2020\n",
              "4         11-03-2020\n",
              "             ...    \n",
              "278843    30-04-2020\n",
              "278844    30-04-2020\n",
              "278845    30-04-2020\n",
              "278846    30-04-2020\n",
              "278847    30-04-2020\n",
              "Name: Test_date, Length: 278848, dtype: object"
            ]
          },
          "metadata": {},
          "execution_count": 9
        }
      ],
      "source": [
        "data['Test_date']"
      ]
    },
    {
      "cell_type": "markdown",
      "metadata": {
        "id": "lZOsRMJuXXBc"
      },
      "source": [
        "test date in the object format converting into date format "
      ]
    },
    {
      "cell_type": "code",
      "execution_count": 10,
      "metadata": {
        "id": "Yq9-WfZgXWAc"
      },
      "outputs": [],
      "source": [
        "data[\"Test_date\"] = pd.to_datetime(data[\"Test_date\"], format=\"%d-%m-%Y\")"
      ]
    },
    {
      "cell_type": "markdown",
      "metadata": {
        "id": "MNcGtkuSYGds"
      },
      "source": [
        "checking unique values in Cough_symptoms"
      ]
    },
    {
      "cell_type": "code",
      "execution_count": 11,
      "metadata": {
        "colab": {
          "base_uri": "https://localhost:8080/"
        },
        "id": "zgesaFgGYCpc",
        "outputId": "b88a290a-a39b-4e22-c6cb-ff89e5ebc3b6"
      },
      "outputs": [
        {
          "output_type": "execute_result",
          "data": {
            "text/plain": [
              "array(['TRUE', 'FALSE', 'None', False, True], dtype=object)"
            ]
          },
          "metadata": {},
          "execution_count": 11
        }
      ],
      "source": [
        "data['Cough_symptoms'].unique()"
      ]
    },
    {
      "cell_type": "markdown",
      "metadata": {
        "id": "FTtrYei5KiRR"
      },
      "source": [
        "none counts in Cough_symptoms"
      ]
    },
    {
      "cell_type": "code",
      "execution_count": 12,
      "metadata": {
        "colab": {
          "base_uri": "https://localhost:8080/"
        },
        "id": "2AoncsV-YNqd",
        "outputId": "b1a6bbbc-86a7-462d-fbeb-4ed4a36ff49a"
      },
      "outputs": [
        {
          "output_type": "execute_result",
          "data": {
            "text/plain": [
              "252"
            ]
          },
          "metadata": {},
          "execution_count": 12
        }
      ],
      "source": [
        "none_count = data['Cough_symptoms'].value_counts()['None']\n",
        "none_count"
      ]
    },
    {
      "cell_type": "markdown",
      "metadata": {
        "id": "U8s5le6bKpsd"
      },
      "source": [
        "none count is 252 which negligible we can remove the rows"
      ]
    },
    {
      "cell_type": "code",
      "execution_count": 13,
      "metadata": {
        "id": "SCre_mhzYPXY"
      },
      "outputs": [],
      "source": [
        "data = data[data['Cough_symptoms'] != 'None']"
      ]
    },
    {
      "cell_type": "markdown",
      "metadata": {
        "id": "y17OpG31LCzD"
      },
      "source": [
        "checking the shape after cleaning the none values from Cough_symptoms before the shape was (278848, 11) "
      ]
    },
    {
      "cell_type": "code",
      "execution_count": 14,
      "metadata": {
        "colab": {
          "base_uri": "https://localhost:8080/"
        },
        "id": "GX3Yj3EaYPT9",
        "outputId": "7ab1b58a-76b2-475a-9559-8b6b1f685903"
      },
      "outputs": [
        {
          "output_type": "execute_result",
          "data": {
            "text/plain": [
              "(278596, 11)"
            ]
          },
          "metadata": {},
          "execution_count": 14
        }
      ],
      "source": [
        "data.shape"
      ]
    },
    {
      "cell_type": "markdown",
      "metadata": {
        "id": "oAfmWKFHLe7U"
      },
      "source": [
        "creating a function to convert TRUE and FALSE to True and False"
      ]
    },
    {
      "cell_type": "code",
      "execution_count": 15,
      "metadata": {
        "id": "_PRpHoXQYPQE"
      },
      "outputs": [],
      "source": [
        "def to_boolean(value):\n",
        "    if value == 'TRUE':\n",
        "        return True\n",
        "    elif value == 'FALSE':\n",
        "        return False\n",
        "    else:\n",
        "        return value"
      ]
    },
    {
      "cell_type": "code",
      "execution_count": 16,
      "metadata": {
        "id": "ecucqSXSYPNV"
      },
      "outputs": [],
      "source": [
        "data['Cough_symptoms'] = data['Cough_symptoms'].apply(to_boolean)"
      ]
    },
    {
      "cell_type": "code",
      "execution_count": 17,
      "metadata": {
        "colab": {
          "base_uri": "https://localhost:8080/"
        },
        "id": "L6GOgOIHYPKt",
        "outputId": "8e4dc26b-9fe4-43e0-e8ae-ed868628665b"
      },
      "outputs": [
        {
          "output_type": "execute_result",
          "data": {
            "text/plain": [
              "<bound method NDFrame.describe of 0          True\n",
              "1         False\n",
              "2         False\n",
              "3          True\n",
              "4          True\n",
              "          ...  \n",
              "278843    False\n",
              "278844    False\n",
              "278845    False\n",
              "278846    False\n",
              "278847    False\n",
              "Name: Cough_symptoms, Length: 278596, dtype: bool>"
            ]
          },
          "metadata": {},
          "execution_count": 17
        }
      ],
      "source": [
        "data['Cough_symptoms'].describe"
      ]
    },
    {
      "cell_type": "code",
      "execution_count": 18,
      "metadata": {
        "colab": {
          "base_uri": "https://localhost:8080/"
        },
        "id": "tMB5LiRlYPIS",
        "outputId": "5627ffb5-c4e2-4446-d65f-84daf90f8c79"
      },
      "outputs": [
        {
          "output_type": "execute_result",
          "data": {
            "text/plain": [
              "array(['FALSE', 'TRUE', 'None', False, True], dtype=object)"
            ]
          },
          "metadata": {},
          "execution_count": 18
        }
      ],
      "source": [
        "data['Fever'].unique()"
      ]
    },
    {
      "cell_type": "code",
      "execution_count": 19,
      "metadata": {
        "colab": {
          "base_uri": "https://localhost:8080/"
        },
        "id": "ghJ3FaslYPFp",
        "outputId": "1c868616-f131-4d2e-eb7e-65c998febf45"
      },
      "outputs": [
        {
          "output_type": "execute_result",
          "data": {
            "text/plain": [
              "2"
            ]
          },
          "metadata": {},
          "execution_count": 19
        }
      ],
      "source": [
        "none_count = data['Fever'].value_counts()['None']\n",
        "none_count"
      ]
    },
    {
      "cell_type": "markdown",
      "metadata": {
        "id": "PLN66PLOMJtv"
      },
      "source": [
        "none count is 2 which negligible we can remove the rows"
      ]
    },
    {
      "cell_type": "code",
      "execution_count": 20,
      "metadata": {
        "id": "Ekk-uUFpYPCo"
      },
      "outputs": [],
      "source": [
        "data = data[data['Fever'] != 'None']"
      ]
    },
    {
      "cell_type": "code",
      "execution_count": 21,
      "metadata": {
        "id": "agMxMQX1YO_m",
        "colab": {
          "base_uri": "https://localhost:8080/"
        },
        "outputId": "0395638e-3800-410f-8c42-b0a89b1bf9b6"
      },
      "outputs": [
        {
          "output_type": "stream",
          "name": "stderr",
          "text": [
            "<ipython-input-21-4d63fbfc0b4f>:1: SettingWithCopyWarning: \n",
            "A value is trying to be set on a copy of a slice from a DataFrame.\n",
            "Try using .loc[row_indexer,col_indexer] = value instead\n",
            "\n",
            "See the caveats in the documentation: https://pandas.pydata.org/pandas-docs/stable/user_guide/indexing.html#returning-a-view-versus-a-copy\n",
            "  data['Fever'] = data['Fever'].apply(to_boolean)\n"
          ]
        }
      ],
      "source": [
        "data['Fever'] = data['Fever'].apply(to_boolean)"
      ]
    },
    {
      "cell_type": "code",
      "execution_count": 22,
      "metadata": {
        "colab": {
          "base_uri": "https://localhost:8080/"
        },
        "id": "CoOc7SgoYO8Z",
        "outputId": "a1ea212c-ad79-479b-f5aa-6984cc099c3f"
      },
      "outputs": [
        {
          "output_type": "execute_result",
          "data": {
            "text/plain": [
              "<bound method NDFrame.describe of 0         False\n",
              "1          True\n",
              "2          True\n",
              "3         False\n",
              "4         False\n",
              "          ...  \n",
              "278843    False\n",
              "278844    False\n",
              "278845    False\n",
              "278846    False\n",
              "278847    False\n",
              "Name: Fever, Length: 278594, dtype: bool>"
            ]
          },
          "metadata": {},
          "execution_count": 22
        }
      ],
      "source": [
        "data['Fever'].describe"
      ]
    },
    {
      "cell_type": "code",
      "execution_count": 23,
      "metadata": {
        "colab": {
          "base_uri": "https://localhost:8080/"
        },
        "id": "fRq8MC1oYO57",
        "outputId": "593678bc-b2d4-472b-fe4e-fff387426c8e"
      },
      "outputs": [
        {
          "output_type": "stream",
          "name": "stdout",
          "text": [
            "<class 'pandas.core.frame.DataFrame'>\n",
            "Int64Index: 278594 entries, 0 to 278847\n",
            "Data columns (total 11 columns):\n",
            " #   Column               Non-Null Count   Dtype         \n",
            "---  ------               --------------   -----         \n",
            " 0   Ind_ID               278594 non-null  int64         \n",
            " 1   Test_date            278594 non-null  datetime64[ns]\n",
            " 2   Cough_symptoms       278594 non-null  bool          \n",
            " 3   Fever                278594 non-null  bool          \n",
            " 4   Sore_throat          278594 non-null  object        \n",
            " 5   Shortness_of_breath  278594 non-null  object        \n",
            " 6   Headache             278594 non-null  object        \n",
            " 7   Corona               278594 non-null  object        \n",
            " 8   Age_60_above         278594 non-null  object        \n",
            " 9   Sex                  278594 non-null  object        \n",
            " 10  Known_contact        278594 non-null  object        \n",
            "dtypes: bool(2), datetime64[ns](1), int64(1), object(7)\n",
            "memory usage: 21.8+ MB\n"
          ]
        }
      ],
      "source": [
        "data.info()"
      ]
    },
    {
      "cell_type": "code",
      "execution_count": 24,
      "metadata": {
        "colab": {
          "base_uri": "https://localhost:8080/"
        },
        "id": "jrSJ9F2bYO3P",
        "outputId": "4f9361c5-27b5-460b-e0e1-91d14959b88c"
      },
      "outputs": [
        {
          "output_type": "execute_result",
          "data": {
            "text/plain": [
              "array(['TRUE', 'FALSE', False, True], dtype=object)"
            ]
          },
          "metadata": {},
          "execution_count": 24
        }
      ],
      "source": [
        "data['Sore_throat'].unique()"
      ]
    },
    {
      "cell_type": "code",
      "execution_count": 25,
      "metadata": {
        "id": "hZbEIil0YO0f"
      },
      "outputs": [],
      "source": [
        "data['Sore_throat'] = data['Sore_throat'].apply(to_boolean)"
      ]
    },
    {
      "cell_type": "code",
      "execution_count": 26,
      "metadata": {
        "colab": {
          "base_uri": "https://localhost:8080/"
        },
        "id": "bYOoiad0YOxx",
        "outputId": "1e424e27-9302-4534-d024-550839ad4e3d"
      },
      "outputs": [
        {
          "output_type": "execute_result",
          "data": {
            "text/plain": [
              "array([ True, False])"
            ]
          },
          "metadata": {},
          "execution_count": 26
        }
      ],
      "source": [
        "data['Sore_throat'].unique()"
      ]
    },
    {
      "cell_type": "code",
      "execution_count": 27,
      "metadata": {
        "colab": {
          "base_uri": "https://localhost:8080/"
        },
        "id": "D4S3LrGMZQAF",
        "outputId": "d26dea9f-77bb-493f-fa34-da49d1d9da08"
      },
      "outputs": [
        {
          "output_type": "execute_result",
          "data": {
            "text/plain": [
              "<bound method NDFrame.describe of 0          True\n",
              "1         False\n",
              "2         False\n",
              "3         False\n",
              "4         False\n",
              "          ...  \n",
              "278843    False\n",
              "278844    False\n",
              "278845    False\n",
              "278846    False\n",
              "278847    False\n",
              "Name: Sore_throat, Length: 278594, dtype: bool>"
            ]
          },
          "metadata": {},
          "execution_count": 27
        }
      ],
      "source": [
        "data['Sore_throat'].describe"
      ]
    },
    {
      "cell_type": "code",
      "execution_count": 28,
      "metadata": {
        "colab": {
          "base_uri": "https://localhost:8080/"
        },
        "id": "ZoaSBIvdYOvL",
        "outputId": "d2c84a1a-5164-4c52-c7b3-d497747f94e1"
      },
      "outputs": [
        {
          "output_type": "execute_result",
          "data": {
            "text/plain": [
              "array(['FALSE', 'TRUE', False, True], dtype=object)"
            ]
          },
          "metadata": {},
          "execution_count": 28
        }
      ],
      "source": [
        "data['Shortness_of_breath'].unique()"
      ]
    },
    {
      "cell_type": "code",
      "execution_count": 29,
      "metadata": {
        "id": "hEKwc-6gYOsO"
      },
      "outputs": [],
      "source": [
        "data['Shortness_of_breath'] = data['Shortness_of_breath'].apply(to_boolean)"
      ]
    },
    {
      "cell_type": "code",
      "execution_count": 30,
      "metadata": {
        "colab": {
          "base_uri": "https://localhost:8080/"
        },
        "id": "-w1GUZSaYOpP",
        "outputId": "028ae137-3ceb-4039-9e24-2080d0d19b67"
      },
      "outputs": [
        {
          "output_type": "execute_result",
          "data": {
            "text/plain": [
              "<bound method NDFrame.describe of 0         False\n",
              "1         False\n",
              "2         False\n",
              "3         False\n",
              "4         False\n",
              "          ...  \n",
              "278843    False\n",
              "278844    False\n",
              "278845    False\n",
              "278846    False\n",
              "278847    False\n",
              "Name: Shortness_of_breath, Length: 278594, dtype: bool>"
            ]
          },
          "metadata": {},
          "execution_count": 30
        }
      ],
      "source": [
        "data['Shortness_of_breath'].describe"
      ]
    },
    {
      "cell_type": "code",
      "execution_count": 31,
      "metadata": {
        "colab": {
          "base_uri": "https://localhost:8080/"
        },
        "id": "mNSim_c6YOl3",
        "outputId": "3a276041-1048-4208-fdf2-2f361997e3ec"
      },
      "outputs": [
        {
          "output_type": "execute_result",
          "data": {
            "text/plain": [
              "array(['FALSE', 'TRUE', False, True], dtype=object)"
            ]
          },
          "metadata": {},
          "execution_count": 31
        }
      ],
      "source": [
        "data['Headache'].unique()"
      ]
    },
    {
      "cell_type": "code",
      "execution_count": 32,
      "metadata": {
        "id": "Gkvqvq0tYOic"
      },
      "outputs": [],
      "source": [
        "data['Headache'] = data['Headache'].apply(to_boolean)"
      ]
    },
    {
      "cell_type": "code",
      "execution_count": 33,
      "metadata": {
        "colab": {
          "base_uri": "https://localhost:8080/"
        },
        "id": "6GyIyercYOEl",
        "outputId": "d012c3d9-ab2b-4b65-8e07-296b655db2de"
      },
      "outputs": [
        {
          "output_type": "execute_result",
          "data": {
            "text/plain": [
              "<bound method NDFrame.describe of 0         False\n",
              "1         False\n",
              "2         False\n",
              "3         False\n",
              "4         False\n",
              "          ...  \n",
              "278843    False\n",
              "278844    False\n",
              "278845    False\n",
              "278846    False\n",
              "278847    False\n",
              "Name: Headache, Length: 278594, dtype: bool>"
            ]
          },
          "metadata": {},
          "execution_count": 33
        }
      ],
      "source": [
        "data['Headache'].describe"
      ]
    },
    {
      "cell_type": "code",
      "execution_count": 34,
      "metadata": {
        "colab": {
          "base_uri": "https://localhost:8080/"
        },
        "id": "LT1Vp3SGWmuO",
        "outputId": "77712617-3224-4e48-bd39-589cc124708d"
      },
      "outputs": [
        {
          "output_type": "stream",
          "name": "stdout",
          "text": [
            "<class 'pandas.core.frame.DataFrame'>\n",
            "Int64Index: 278594 entries, 0 to 278847\n",
            "Data columns (total 11 columns):\n",
            " #   Column               Non-Null Count   Dtype         \n",
            "---  ------               --------------   -----         \n",
            " 0   Ind_ID               278594 non-null  int64         \n",
            " 1   Test_date            278594 non-null  datetime64[ns]\n",
            " 2   Cough_symptoms       278594 non-null  bool          \n",
            " 3   Fever                278594 non-null  bool          \n",
            " 4   Sore_throat          278594 non-null  bool          \n",
            " 5   Shortness_of_breath  278594 non-null  bool          \n",
            " 6   Headache             278594 non-null  bool          \n",
            " 7   Corona               278594 non-null  object        \n",
            " 8   Age_60_above         278594 non-null  object        \n",
            " 9   Sex                  278594 non-null  object        \n",
            " 10  Known_contact        278594 non-null  object        \n",
            "dtypes: bool(5), datetime64[ns](1), int64(1), object(4)\n",
            "memory usage: 16.2+ MB\n"
          ]
        }
      ],
      "source": [
        "data.info()"
      ]
    },
    {
      "cell_type": "markdown",
      "metadata": {
        "id": "JEXtfWhwMWP-"
      },
      "source": [
        "checking unique columns in the corona column"
      ]
    },
    {
      "cell_type": "code",
      "execution_count": 35,
      "metadata": {
        "colab": {
          "base_uri": "https://localhost:8080/"
        },
        "id": "GrFX3h_RajD-",
        "outputId": "37e331dc-57aa-4ac2-a286-0e4fff6e13c8"
      },
      "outputs": [
        {
          "output_type": "execute_result",
          "data": {
            "text/plain": [
              "array(['negative', 'positive', 'other'], dtype=object)"
            ]
          },
          "metadata": {},
          "execution_count": 35
        }
      ],
      "source": [
        "data['Corona'].unique()"
      ]
    },
    {
      "cell_type": "code",
      "execution_count": 36,
      "metadata": {
        "colab": {
          "base_uri": "https://localhost:8080/"
        },
        "id": "UkAfQJlialaf",
        "outputId": "eaeeb88e-237d-42f5-c283-4893593f97f7"
      },
      "outputs": [
        {
          "output_type": "execute_result",
          "data": {
            "text/plain": [
              "3892"
            ]
          },
          "metadata": {},
          "execution_count": 36
        }
      ],
      "source": [
        "other_count = data['Corona'].value_counts()['other']\n",
        "other_count"
      ]
    },
    {
      "cell_type": "markdown",
      "metadata": {
        "id": "n57hPG8xNLU6"
      },
      "source": [
        "deleting the 'other' as it may affect our mashine learning model the count is negligible so i prefer droping the rows"
      ]
    },
    {
      "cell_type": "code",
      "execution_count": 37,
      "metadata": {
        "id": "k6UjRZOWalXm"
      },
      "outputs": [],
      "source": [
        "data = data[data['Corona'] != 'other']"
      ]
    },
    {
      "cell_type": "code",
      "execution_count": 38,
      "metadata": {
        "colab": {
          "base_uri": "https://localhost:8080/"
        },
        "id": "qG5DEsGGalUO",
        "outputId": "6d9fbd68-afa3-4cba-c118-3a79b1240d00"
      },
      "outputs": [
        {
          "output_type": "execute_result",
          "data": {
            "text/plain": [
              "array(['None', 'No', 'Yes'], dtype=object)"
            ]
          },
          "metadata": {},
          "execution_count": 38
        }
      ],
      "source": [
        "data['Age_60_above'].unique()"
      ]
    },
    {
      "cell_type": "code",
      "execution_count": 39,
      "metadata": {
        "colab": {
          "base_uri": "https://localhost:8080/"
        },
        "id": "1IlxVHwcalRH",
        "outputId": "4f07c524-f476-429c-d60c-886b088dcfc0"
      },
      "outputs": [
        {
          "output_type": "execute_result",
          "data": {
            "text/plain": [
              "125659"
            ]
          },
          "metadata": {},
          "execution_count": 39
        }
      ],
      "source": [
        "none_count = data['Age_60_above'].value_counts()['None']\n",
        "none_count"
      ]
    },
    {
      "cell_type": "code",
      "execution_count": 40,
      "metadata": {
        "colab": {
          "base_uri": "https://localhost:8080/"
        },
        "id": "8GoMwkH1alL3",
        "outputId": "376c060d-0236-468e-bea7-c1ede378fad7"
      },
      "outputs": [
        {
          "output_type": "execute_result",
          "data": {
            "text/plain": [
              "(274702, 11)"
            ]
          },
          "metadata": {},
          "execution_count": 40
        }
      ],
      "source": [
        "data.shape"
      ]
    },
    {
      "cell_type": "code",
      "execution_count": 41,
      "metadata": {
        "colab": {
          "base_uri": "https://localhost:8080/"
        },
        "id": "gcg2NgGxalJM",
        "outputId": "37697a6e-8580-44cd-baae-fa32b5c3d530"
      },
      "outputs": [
        {
          "output_type": "stream",
          "name": "stdout",
          "text": [
            "<class 'pandas.core.frame.DataFrame'>\n",
            "Int64Index: 274702 entries, 0 to 278847\n",
            "Data columns (total 11 columns):\n",
            " #   Column               Non-Null Count   Dtype         \n",
            "---  ------               --------------   -----         \n",
            " 0   Ind_ID               274702 non-null  int64         \n",
            " 1   Test_date            274702 non-null  datetime64[ns]\n",
            " 2   Cough_symptoms       274702 non-null  bool          \n",
            " 3   Fever                274702 non-null  bool          \n",
            " 4   Sore_throat          274702 non-null  bool          \n",
            " 5   Shortness_of_breath  274702 non-null  bool          \n",
            " 6   Headache             274702 non-null  bool          \n",
            " 7   Corona               274702 non-null  object        \n",
            " 8   Age_60_above         274702 non-null  object        \n",
            " 9   Sex                  274702 non-null  object        \n",
            " 10  Known_contact        274702 non-null  object        \n",
            "dtypes: bool(5), datetime64[ns](1), int64(1), object(4)\n",
            "memory usage: 16.0+ MB\n"
          ]
        }
      ],
      "source": [
        "data.info()"
      ]
    },
    {
      "cell_type": "code",
      "execution_count": 42,
      "metadata": {
        "colab": {
          "base_uri": "https://localhost:8080/"
        },
        "id": "rQKw2TPTalGG",
        "outputId": "e0abbec9-88e2-4e31-8c37-8dab357b22d5"
      },
      "outputs": [
        {
          "output_type": "execute_result",
          "data": {
            "text/plain": [
              "array(['None', 'male', 'female'], dtype=object)"
            ]
          },
          "metadata": {},
          "execution_count": 42
        }
      ],
      "source": [
        "data['Sex'].unique()"
      ]
    },
    {
      "cell_type": "code",
      "execution_count": 43,
      "metadata": {
        "colab": {
          "base_uri": "https://localhost:8080/"
        },
        "id": "23rWs9BcalDp",
        "outputId": "ed29143c-d630-4d5c-822c-d7ad6009769b"
      },
      "outputs": [
        {
          "output_type": "execute_result",
          "data": {
            "text/plain": [
              "19034"
            ]
          },
          "metadata": {},
          "execution_count": 43
        }
      ],
      "source": [
        "none_count = data['Sex'].value_counts()['None']\n",
        "none_count"
      ]
    },
    {
      "cell_type": "markdown",
      "metadata": {
        "id": "SHFw6tDOOGRa"
      },
      "source": [
        "replacing the none value with mode"
      ]
    },
    {
      "cell_type": "code",
      "execution_count": 44,
      "metadata": {
        "id": "-4_JOprIalA_"
      },
      "outputs": [],
      "source": [
        "# replace \"None\" with the modez\n",
        "mode = data['Sex'].mode()[0]\n",
        "data['Sex'] = data['Sex'].replace(\"None\", mode)"
      ]
    },
    {
      "cell_type": "code",
      "execution_count": 45,
      "metadata": {
        "colab": {
          "base_uri": "https://localhost:8080/"
        },
        "id": "BGmVhqhlCHrz",
        "outputId": "c05a08cc-7394-44f6-cd29-754195f90cc8"
      },
      "outputs": [
        {
          "output_type": "execute_result",
          "data": {
            "text/plain": [
              "125659"
            ]
          },
          "metadata": {},
          "execution_count": 45
        }
      ],
      "source": [
        "none_count = data['Age_60_above'].value_counts()['None']\n",
        "none_count"
      ]
    },
    {
      "cell_type": "code",
      "execution_count": 46,
      "metadata": {
        "colab": {
          "base_uri": "https://localhost:8080/"
        },
        "id": "QRWk1ds0ak-T",
        "outputId": "ddbd8a77-6410-4fd6-a2e3-5f788077b289"
      },
      "outputs": [
        {
          "output_type": "execute_result",
          "data": {
            "text/plain": [
              "array(['female', 'male'], dtype=object)"
            ]
          },
          "metadata": {},
          "execution_count": 46
        }
      ],
      "source": [
        "data['Sex'].unique()"
      ]
    },
    {
      "cell_type": "code",
      "execution_count": 47,
      "metadata": {
        "colab": {
          "base_uri": "https://localhost:8080/"
        },
        "id": "uxwvmbO8ak7g",
        "outputId": "395d0529-b01a-495e-d3bd-0336ee3d667d"
      },
      "outputs": [
        {
          "output_type": "execute_result",
          "data": {
            "text/plain": [
              "array(['Abroad', 'Contact with confirmed', 'Other'], dtype=object)"
            ]
          },
          "metadata": {},
          "execution_count": 47
        }
      ],
      "source": [
        "data['Known_contact'].unique()"
      ]
    },
    {
      "cell_type": "code",
      "execution_count": 48,
      "metadata": {
        "colab": {
          "base_uri": "https://localhost:8080/"
        },
        "id": "7JlhXajCak2X",
        "outputId": "b272dcf4-1238-4843-dbc7-2d5ed33c53fe"
      },
      "outputs": [
        {
          "output_type": "execute_result",
          "data": {
            "text/plain": [
              "239167"
            ]
          },
          "metadata": {},
          "execution_count": 48
        }
      ],
      "source": [
        "val_count = data['Known_contact'].value_counts()['Other']\n",
        "val_count"
      ]
    },
    {
      "cell_type": "code",
      "execution_count": 49,
      "metadata": {
        "colab": {
          "base_uri": "https://localhost:8080/"
        },
        "id": "_S2wiPGXakzk",
        "outputId": "0d09c6cf-be0f-4512-9c7f-22cf8bb7ed15"
      },
      "outputs": [
        {
          "output_type": "execute_result",
          "data": {
            "text/plain": [
              "25068"
            ]
          },
          "metadata": {},
          "execution_count": 49
        }
      ],
      "source": [
        "val_count = data['Known_contact'].value_counts()['Abroad']\n",
        "val_count"
      ]
    },
    {
      "cell_type": "code",
      "execution_count": 50,
      "metadata": {
        "colab": {
          "base_uri": "https://localhost:8080/"
        },
        "id": "XCMh15YMakwp",
        "outputId": "c2cc3b4b-397e-49da-fe6d-ebce31718ac2"
      },
      "outputs": [
        {
          "output_type": "execute_result",
          "data": {
            "text/plain": [
              "10467"
            ]
          },
          "metadata": {},
          "execution_count": 50
        }
      ],
      "source": [
        "val_count = data['Known_contact'].value_counts()['Contact with confirmed']\n",
        "val_count"
      ]
    },
    {
      "cell_type": "code",
      "execution_count": 51,
      "metadata": {
        "colab": {
          "base_uri": "https://localhost:8080/"
        },
        "id": "KLdqV-0PhXou",
        "outputId": "1eb39c5b-e6b0-49f4-b12c-7702414116ee"
      },
      "outputs": [
        {
          "output_type": "stream",
          "name": "stdout",
          "text": [
            "<class 'pandas.core.frame.DataFrame'>\n",
            "Int64Index: 274702 entries, 0 to 278847\n",
            "Data columns (total 11 columns):\n",
            " #   Column               Non-Null Count   Dtype         \n",
            "---  ------               --------------   -----         \n",
            " 0   Ind_ID               274702 non-null  int64         \n",
            " 1   Test_date            274702 non-null  datetime64[ns]\n",
            " 2   Cough_symptoms       274702 non-null  bool          \n",
            " 3   Fever                274702 non-null  bool          \n",
            " 4   Sore_throat          274702 non-null  bool          \n",
            " 5   Shortness_of_breath  274702 non-null  bool          \n",
            " 6   Headache             274702 non-null  bool          \n",
            " 7   Corona               274702 non-null  object        \n",
            " 8   Age_60_above         274702 non-null  object        \n",
            " 9   Sex                  274702 non-null  object        \n",
            " 10  Known_contact        274702 non-null  object        \n",
            "dtypes: bool(5), datetime64[ns](1), int64(1), object(4)\n",
            "memory usage: 16.0+ MB\n"
          ]
        }
      ],
      "source": [
        "data.info()"
      ]
    },
    {
      "cell_type": "code",
      "execution_count": 52,
      "metadata": {
        "colab": {
          "base_uri": "https://localhost:8080/",
          "height": 363
        },
        "id": "f34Lqp7BhxQu",
        "outputId": "fff47c94-7168-412f-f2ef-4e56581ec699"
      },
      "outputs": [
        {
          "output_type": "execute_result",
          "data": {
            "text/plain": [
              "        Ind_ID  Test_date  Cough_symptoms  Fever  Sore_throat  \\\n",
              "69584    69585 2020-04-01           False  False        False   \n",
              "28427    28428 2020-03-25           False   True        False   \n",
              "243087  243088 2020-04-25           False  False        False   \n",
              "253660  253661 2020-04-27           False  False        False   \n",
              "140001  140002 2020-04-12           False  False        False   \n",
              "196829  196830 2020-04-20           False  False        False   \n",
              "56909    56910 2020-03-30           False  False        False   \n",
              "47909    47910 2020-03-28           False  False        False   \n",
              "119148  119149 2020-04-08           False  False        False   \n",
              "134037  134038 2020-04-11           False  False        False   \n",
              "\n",
              "        Shortness_of_breath  Headache    Corona Age_60_above     Sex  \\\n",
              "69584                 False     False  negative           No  female   \n",
              "28427                 False     False  negative           No  female   \n",
              "243087                False     False  negative         None    male   \n",
              "253660                False     False  negative         None  female   \n",
              "140001                False     False  negative           No  female   \n",
              "196829                False     False  negative         None    male   \n",
              "56909                 False     False  negative          Yes  female   \n",
              "47909                 False     False  negative           No  female   \n",
              "119148                False     False  negative           No    male   \n",
              "134037                False     False  negative           No  female   \n",
              "\n",
              "       Known_contact  \n",
              "69584          Other  \n",
              "28427         Abroad  \n",
              "243087         Other  \n",
              "253660         Other  \n",
              "140001         Other  \n",
              "196829         Other  \n",
              "56909          Other  \n",
              "47909          Other  \n",
              "119148         Other  \n",
              "134037         Other  "
            ],
            "text/html": [
              "\n",
              "  <div id=\"df-ee3e544f-46d1-41b7-b20d-2d7db641aba4\">\n",
              "    <div class=\"colab-df-container\">\n",
              "      <div>\n",
              "<style scoped>\n",
              "    .dataframe tbody tr th:only-of-type {\n",
              "        vertical-align: middle;\n",
              "    }\n",
              "\n",
              "    .dataframe tbody tr th {\n",
              "        vertical-align: top;\n",
              "    }\n",
              "\n",
              "    .dataframe thead th {\n",
              "        text-align: right;\n",
              "    }\n",
              "</style>\n",
              "<table border=\"1\" class=\"dataframe\">\n",
              "  <thead>\n",
              "    <tr style=\"text-align: right;\">\n",
              "      <th></th>\n",
              "      <th>Ind_ID</th>\n",
              "      <th>Test_date</th>\n",
              "      <th>Cough_symptoms</th>\n",
              "      <th>Fever</th>\n",
              "      <th>Sore_throat</th>\n",
              "      <th>Shortness_of_breath</th>\n",
              "      <th>Headache</th>\n",
              "      <th>Corona</th>\n",
              "      <th>Age_60_above</th>\n",
              "      <th>Sex</th>\n",
              "      <th>Known_contact</th>\n",
              "    </tr>\n",
              "  </thead>\n",
              "  <tbody>\n",
              "    <tr>\n",
              "      <th>69584</th>\n",
              "      <td>69585</td>\n",
              "      <td>2020-04-01</td>\n",
              "      <td>False</td>\n",
              "      <td>False</td>\n",
              "      <td>False</td>\n",
              "      <td>False</td>\n",
              "      <td>False</td>\n",
              "      <td>negative</td>\n",
              "      <td>No</td>\n",
              "      <td>female</td>\n",
              "      <td>Other</td>\n",
              "    </tr>\n",
              "    <tr>\n",
              "      <th>28427</th>\n",
              "      <td>28428</td>\n",
              "      <td>2020-03-25</td>\n",
              "      <td>False</td>\n",
              "      <td>True</td>\n",
              "      <td>False</td>\n",
              "      <td>False</td>\n",
              "      <td>False</td>\n",
              "      <td>negative</td>\n",
              "      <td>No</td>\n",
              "      <td>female</td>\n",
              "      <td>Abroad</td>\n",
              "    </tr>\n",
              "    <tr>\n",
              "      <th>243087</th>\n",
              "      <td>243088</td>\n",
              "      <td>2020-04-25</td>\n",
              "      <td>False</td>\n",
              "      <td>False</td>\n",
              "      <td>False</td>\n",
              "      <td>False</td>\n",
              "      <td>False</td>\n",
              "      <td>negative</td>\n",
              "      <td>None</td>\n",
              "      <td>male</td>\n",
              "      <td>Other</td>\n",
              "    </tr>\n",
              "    <tr>\n",
              "      <th>253660</th>\n",
              "      <td>253661</td>\n",
              "      <td>2020-04-27</td>\n",
              "      <td>False</td>\n",
              "      <td>False</td>\n",
              "      <td>False</td>\n",
              "      <td>False</td>\n",
              "      <td>False</td>\n",
              "      <td>negative</td>\n",
              "      <td>None</td>\n",
              "      <td>female</td>\n",
              "      <td>Other</td>\n",
              "    </tr>\n",
              "    <tr>\n",
              "      <th>140001</th>\n",
              "      <td>140002</td>\n",
              "      <td>2020-04-12</td>\n",
              "      <td>False</td>\n",
              "      <td>False</td>\n",
              "      <td>False</td>\n",
              "      <td>False</td>\n",
              "      <td>False</td>\n",
              "      <td>negative</td>\n",
              "      <td>No</td>\n",
              "      <td>female</td>\n",
              "      <td>Other</td>\n",
              "    </tr>\n",
              "    <tr>\n",
              "      <th>196829</th>\n",
              "      <td>196830</td>\n",
              "      <td>2020-04-20</td>\n",
              "      <td>False</td>\n",
              "      <td>False</td>\n",
              "      <td>False</td>\n",
              "      <td>False</td>\n",
              "      <td>False</td>\n",
              "      <td>negative</td>\n",
              "      <td>None</td>\n",
              "      <td>male</td>\n",
              "      <td>Other</td>\n",
              "    </tr>\n",
              "    <tr>\n",
              "      <th>56909</th>\n",
              "      <td>56910</td>\n",
              "      <td>2020-03-30</td>\n",
              "      <td>False</td>\n",
              "      <td>False</td>\n",
              "      <td>False</td>\n",
              "      <td>False</td>\n",
              "      <td>False</td>\n",
              "      <td>negative</td>\n",
              "      <td>Yes</td>\n",
              "      <td>female</td>\n",
              "      <td>Other</td>\n",
              "    </tr>\n",
              "    <tr>\n",
              "      <th>47909</th>\n",
              "      <td>47910</td>\n",
              "      <td>2020-03-28</td>\n",
              "      <td>False</td>\n",
              "      <td>False</td>\n",
              "      <td>False</td>\n",
              "      <td>False</td>\n",
              "      <td>False</td>\n",
              "      <td>negative</td>\n",
              "      <td>No</td>\n",
              "      <td>female</td>\n",
              "      <td>Other</td>\n",
              "    </tr>\n",
              "    <tr>\n",
              "      <th>119148</th>\n",
              "      <td>119149</td>\n",
              "      <td>2020-04-08</td>\n",
              "      <td>False</td>\n",
              "      <td>False</td>\n",
              "      <td>False</td>\n",
              "      <td>False</td>\n",
              "      <td>False</td>\n",
              "      <td>negative</td>\n",
              "      <td>No</td>\n",
              "      <td>male</td>\n",
              "      <td>Other</td>\n",
              "    </tr>\n",
              "    <tr>\n",
              "      <th>134037</th>\n",
              "      <td>134038</td>\n",
              "      <td>2020-04-11</td>\n",
              "      <td>False</td>\n",
              "      <td>False</td>\n",
              "      <td>False</td>\n",
              "      <td>False</td>\n",
              "      <td>False</td>\n",
              "      <td>negative</td>\n",
              "      <td>No</td>\n",
              "      <td>female</td>\n",
              "      <td>Other</td>\n",
              "    </tr>\n",
              "  </tbody>\n",
              "</table>\n",
              "</div>\n",
              "      <button class=\"colab-df-convert\" onclick=\"convertToInteractive('df-ee3e544f-46d1-41b7-b20d-2d7db641aba4')\"\n",
              "              title=\"Convert this dataframe to an interactive table.\"\n",
              "              style=\"display:none;\">\n",
              "        \n",
              "  <svg xmlns=\"http://www.w3.org/2000/svg\" height=\"24px\"viewBox=\"0 0 24 24\"\n",
              "       width=\"24px\">\n",
              "    <path d=\"M0 0h24v24H0V0z\" fill=\"none\"/>\n",
              "    <path d=\"M18.56 5.44l.94 2.06.94-2.06 2.06-.94-2.06-.94-.94-2.06-.94 2.06-2.06.94zm-11 1L8.5 8.5l.94-2.06 2.06-.94-2.06-.94L8.5 2.5l-.94 2.06-2.06.94zm10 10l.94 2.06.94-2.06 2.06-.94-2.06-.94-.94-2.06-.94 2.06-2.06.94z\"/><path d=\"M17.41 7.96l-1.37-1.37c-.4-.4-.92-.59-1.43-.59-.52 0-1.04.2-1.43.59L10.3 9.45l-7.72 7.72c-.78.78-.78 2.05 0 2.83L4 21.41c.39.39.9.59 1.41.59.51 0 1.02-.2 1.41-.59l7.78-7.78 2.81-2.81c.8-.78.8-2.07 0-2.86zM5.41 20L4 18.59l7.72-7.72 1.47 1.35L5.41 20z\"/>\n",
              "  </svg>\n",
              "      </button>\n",
              "      \n",
              "  <style>\n",
              "    .colab-df-container {\n",
              "      display:flex;\n",
              "      flex-wrap:wrap;\n",
              "      gap: 12px;\n",
              "    }\n",
              "\n",
              "    .colab-df-convert {\n",
              "      background-color: #E8F0FE;\n",
              "      border: none;\n",
              "      border-radius: 50%;\n",
              "      cursor: pointer;\n",
              "      display: none;\n",
              "      fill: #1967D2;\n",
              "      height: 32px;\n",
              "      padding: 0 0 0 0;\n",
              "      width: 32px;\n",
              "    }\n",
              "\n",
              "    .colab-df-convert:hover {\n",
              "      background-color: #E2EBFA;\n",
              "      box-shadow: 0px 1px 2px rgba(60, 64, 67, 0.3), 0px 1px 3px 1px rgba(60, 64, 67, 0.15);\n",
              "      fill: #174EA6;\n",
              "    }\n",
              "\n",
              "    [theme=dark] .colab-df-convert {\n",
              "      background-color: #3B4455;\n",
              "      fill: #D2E3FC;\n",
              "    }\n",
              "\n",
              "    [theme=dark] .colab-df-convert:hover {\n",
              "      background-color: #434B5C;\n",
              "      box-shadow: 0px 1px 3px 1px rgba(0, 0, 0, 0.15);\n",
              "      filter: drop-shadow(0px 1px 2px rgba(0, 0, 0, 0.3));\n",
              "      fill: #FFFFFF;\n",
              "    }\n",
              "  </style>\n",
              "\n",
              "      <script>\n",
              "        const buttonEl =\n",
              "          document.querySelector('#df-ee3e544f-46d1-41b7-b20d-2d7db641aba4 button.colab-df-convert');\n",
              "        buttonEl.style.display =\n",
              "          google.colab.kernel.accessAllowed ? 'block' : 'none';\n",
              "\n",
              "        async function convertToInteractive(key) {\n",
              "          const element = document.querySelector('#df-ee3e544f-46d1-41b7-b20d-2d7db641aba4');\n",
              "          const dataTable =\n",
              "            await google.colab.kernel.invokeFunction('convertToInteractive',\n",
              "                                                     [key], {});\n",
              "          if (!dataTable) return;\n",
              "\n",
              "          const docLinkHtml = 'Like what you see? Visit the ' +\n",
              "            '<a target=\"_blank\" href=https://colab.research.google.com/notebooks/data_table.ipynb>data table notebook</a>'\n",
              "            + ' to learn more about interactive tables.';\n",
              "          element.innerHTML = '';\n",
              "          dataTable['output_type'] = 'display_data';\n",
              "          await google.colab.output.renderOutput(dataTable, element);\n",
              "          const docLink = document.createElement('div');\n",
              "          docLink.innerHTML = docLinkHtml;\n",
              "          element.appendChild(docLink);\n",
              "        }\n",
              "      </script>\n",
              "    </div>\n",
              "  </div>\n",
              "  "
            ]
          },
          "metadata": {},
          "execution_count": 52
        }
      ],
      "source": [
        "data.sample(10)"
      ]
    },
    {
      "cell_type": "markdown",
      "metadata": {
        "id": "cqSWFejePmjx"
      },
      "source": [
        "creating a csv file of the cleaned data set"
      ]
    },
    {
      "cell_type": "code",
      "execution_count": 53,
      "metadata": {
        "id": "Keu0WTNs_9f_"
      },
      "outputs": [],
      "source": [
        "data.to_csv('corona_tested_cleaned.csv', index=False)"
      ]
    },
    {
      "cell_type": "markdown",
      "metadata": {
        "id": "Ab_JHrr_zoU_"
      },
      "source": [
        "**Section 3: Data analysis approach**"
      ]
    },
    {
      "cell_type": "markdown",
      "metadata": {
        "id": "wvNdA4aYQ0I7"
      },
      "source": [
        "checking gender distribution"
      ]
    },
    {
      "cell_type": "code",
      "execution_count": 54,
      "metadata": {
        "colab": {
          "base_uri": "https://localhost:8080/",
          "height": 428
        },
        "id": "x29a3Ha8mLth",
        "outputId": "cb1a1956-76b4-4234-b736-483756d8375c"
      },
      "outputs": [
        {
          "output_type": "display_data",
          "data": {
            "text/plain": [
              "<Figure size 640x480 with 1 Axes>"
            ],
            "image/png": "[encoded data removed]"
          },
          "metadata": {}
        }
      ],
      "source": [
        "plt.pie(data['Sex'].value_counts(), \n",
        "labels=['Female', 'Male'], colors=['purple', 'blue'], autopct='%1.1f%%')\n",
        "plt.title('Patient Gender Distribution')\n",
        "plt.show()"
      ]
    },
    {
      "cell_type": "markdown",
      "metadata": {
        "id": "3W95F-iERCYL"
      },
      "source": [
        "Checking the rise in positive cases according to dates"
      ]
    },
    {
      "cell_type": "code",
      "execution_count": 55,
      "metadata": {
        "colab": {
          "base_uri": "https://localhost:8080/",
          "height": 524
        },
        "id": "Ok5IcRzaz-4L",
        "outputId": "925f1319-2dec-49dd-afca-68fbd8d497c1"
      },
      "outputs": [
        {
          "output_type": "display_data",
          "data": {
            "text/plain": [
              "<Figure size 640x480 with 1 Axes>"
            ],
            "image/png": "[encoded data removed]"
          },
          "metadata": {}
        }
      ],
      "source": [
        "date_counts = data[data['Corona']=='positive'].groupby('Test_date').size().reset_index(name='counts')\n",
        "plt.plot(date_counts['Test_date'], date_counts['counts'], color='purple')\n",
        "plt.xlabel('Date')\n",
        "plt.ylabel('Number of COVID-19 Positive Cases')\n",
        "plt.title('COVID-19 Positive Cases over Time')\n",
        "plt.xticks(rotation=45)\n",
        "plt.show()"
      ]
    },
    {
      "cell_type": "markdown",
      "metadata": {
        "id": "g6YMSlP1SHdS"
      },
      "source": [
        "percentage of positive indivisuals in this data set"
      ]
    },
    {
      "cell_type": "code",
      "execution_count": 56,
      "metadata": {
        "colab": {
          "base_uri": "https://localhost:8080/",
          "height": 428
        },
        "id": "1ZL_XB0E0JDg",
        "outputId": "2ac39859-6958-49a0-8e83-32afbaf0705d"
      },
      "outputs": [
        {
          "output_type": "display_data",
          "data": {
            "text/plain": [
              "<Figure size 640x480 with 1 Axes>"
            ],
            "image/png": "[encoded data removed]"
          },
          "metadata": {}
        }
      ],
      "source": [
        "corona_counts = data['Corona'].value_counts()\n",
        "plt.pie(corona_counts, labels=corona_counts.index, autopct='%1.1f%%', colors=['yellowgreen', 'lightcoral'])\n",
        "plt.title('COVID-19 Test Results')\n",
        "plt.show()"
      ]
    },
    {
      "cell_type": "markdown",
      "metadata": {
        "id": "1Dnk3SmrSUyJ"
      },
      "source": [
        "checking corona counts by gender"
      ]
    },
    {
      "cell_type": "code",
      "execution_count": 57,
      "metadata": {
        "colab": {
          "base_uri": "https://localhost:8080/",
          "height": 506
        },
        "id": "RSVXeRbc0NM4",
        "outputId": "9378d979-2c73-4132-cd1d-843691802b5c"
      },
      "outputs": [
        {
          "output_type": "display_data",
          "data": {
            "text/plain": [
              "<Figure size 640x480 with 1 Axes>"
            ],
            "image/png": "[encoded data removed]"
          },
          "metadata": {}
        }
      ],
      "source": [
        "gender_corona_counts = data.groupby(['Sex', 'Corona']).size().unstack(fill_value=0)\n",
        "gender_corona_counts.plot(kind='bar')\n",
        "plt.xlabel('Gender')\n",
        "plt.ylabel('Number of Patients')\n",
        "plt.title('COVID-19 Test Results by Gender')\n",
        "plt.show()\n"
      ]
    },
    {
      "cell_type": "markdown",
      "metadata": {
        "id": "_NkvJtTDSfGj"
      },
      "source": [
        "checking corona relation with known_contact column"
      ]
    },
    {
      "cell_type": "code",
      "execution_count": 58,
      "metadata": {
        "colab": {
          "base_uri": "https://localhost:8080/",
          "height": 466
        },
        "id": "QJTA1hG54GB3",
        "outputId": "22371794-15bd-469b-a0af-4fe69535dedb"
      },
      "outputs": [
        {
          "output_type": "execute_result",
          "data": {
            "text/plain": [
              "<Axes: xlabel='Known_contact', ylabel='count'>"
            ]
          },
          "metadata": {},
          "execution_count": 58
        },
        {
          "output_type": "display_data",
          "data": {
            "text/plain": [
              "<Figure size 640x480 with 1 Axes>"
            ],
            "image/png": "[encoded data removed]"
          },
          "metadata": {}
        }
      ],
      "source": [
        "sns.countplot(x='Known_contact', hue='Corona', data=data)"
      ]
    },
    {
      "cell_type": "markdown",
      "metadata": {
        "id": "02n8IrmLS6kz"
      },
      "source": [
        "checking the strongs symptoms that may help us to classify with the corona positive indivisuals"
      ]
    },
    {
      "cell_type": "code",
      "execution_count": 59,
      "metadata": {
        "colab": {
          "base_uri": "https://localhost:8080/",
          "height": 692
        },
        "id": "VVeWs6Vf0SiQ",
        "outputId": "1f19f8ef-5160-44fd-bcb4-f610a717d100"
      },
      "outputs": [
        {
          "output_type": "display_data",
          "data": {
            "text/plain": [
              "<Figure size 800x600 with 1 Axes>"
            ],
            "image/png": "[encoded data removed]"
          },
          "metadata": {}
        }
      ],
      "source": [
        "symptom_rows = data[data[['Cough_symptoms', 'Fever', 'Sore_throat', 'Shortness_of_breath', 'Headache']].any(axis=1)]\n",
        "positive_symptom_rows = symptom_rows[symptom_rows['Corona'] == 'positive']\n",
        "symptom_counts = positive_symptom_rows[['Cough_symptoms', 'Fever', 'Sore_throat', 'Shortness_of_breath', 'Headache']].sum()\n",
        "\n",
        "fig, ax = plt.subplots(figsize=(8,6))\n",
        "symptom_counts.plot(kind='bar', color='orange', ax=ax)\n",
        "ax.set_xlabel('Symptom')\n",
        "ax.set_ylabel('Count')\n",
        "ax.set_title('Count of Symptoms Among Positive COVID-19 Cases')\n",
        "plt.show()\n"
      ]
    },
    {
      "cell_type": "markdown",
      "metadata": {
        "id": "jy5KQSIVTTz5"
      },
      "source": [
        "checking the symptoms that may help distinguish between the positive and negative indivisuals"
      ]
    },
    {
      "cell_type": "code",
      "execution_count": 60,
      "metadata": {
        "colab": {
          "base_uri": "https://localhost:8080/",
          "height": 619
        },
        "id": "U7zLQoFu0W_L",
        "outputId": "a109b1da-adbd-4e3a-bc7e-f1dc06a62ad6"
      },
      "outputs": [
        {
          "output_type": "stream",
          "name": "stderr",
          "text": [
            "<ipython-input-60-d3302e647772>:1: FutureWarning: The default value of numeric_only in DataFrame.sum is deprecated. In a future version, it will default to False. In addition, specifying 'numeric_only=None' is deprecated. Select only valid columns or specify the value of numeric_only to silence this warning.\n",
            "  symptom_counts = data.iloc[:,1:7].sum()\n"
          ]
        },
        {
          "output_type": "display_data",
          "data": {
            "text/plain": [
              "<Figure size 800x600 with 1 Axes>"
            ],
            "image/png": "[encoded data removed]"
          },
          "metadata": {}
        }
      ],
      "source": [
        "symptom_counts = data.iloc[:,1:7].sum()\n",
        "symptom_corona_counts = data.groupby(['Corona'])[symptom_counts.index].sum().T\n",
        "symptom_corona_counts['Total'] = symptom_corona_counts.sum(axis=1)\n",
        "symptom_corona_counts['Positive Proportion'] = symptom_corona_counts['positive'] / symptom_corona_counts['Total']\n",
        "\n",
        "fig, ax = plt.subplots(figsize=(8,6))\n",
        "symptom_corona_counts[['positive', 'negative']].plot(kind='bar', stacked=True, ax=ax)\n",
        "ax.set_xlabel('Symptom')\n",
        "ax.set_ylabel('Number of Patients')\n",
        "ax.set_title('COVID-19 Test Results by Symptom')\n",
        "plt.xticks(rotation=0)\n",
        "plt.legend(title='COVID-19 Test Result', loc='upper left', bbox_to_anchor=(1.0, 1))\n",
        "plt.show()\n"
      ]
    },
    {
      "cell_type": "markdown",
      "metadata": {
        "id": "hHhK74ogTpgq"
      },
      "source": [
        "checking the Distribution of Test Dates for Positive COVID-19 Cases"
      ]
    },
    {
      "cell_type": "code",
      "execution_count": 61,
      "metadata": {
        "colab": {
          "base_uri": "https://localhost:8080/",
          "height": 616
        },
        "id": "AT1yii7_0fXi",
        "outputId": "a00d8500-2046-47a1-d0ec-08df37f88ff4"
      },
      "outputs": [
        {
          "output_type": "display_data",
          "data": {
            "text/plain": [
              "<Figure size 800x600 with 1 Axes>"
            ],
            "image/png": "[encoded data removed]"
          },
          "metadata": {}
        }
      ],
      "source": [
        "fig, ax = plt.subplots(figsize=(8,6))\n",
        "data[data['Corona']=='positive']['Test_date'].hist(ax=ax, bins=51)\n",
        "ax.set_xlabel('Test Date')\n",
        "ax.set_ylabel('Number of Patients')\n",
        "ax.set_title('Distribution of Test Dates for Positive COVID-19 Cases')\n",
        "plt.xticks(rotation=45)\n",
        "plt.show()"
      ]
    },
    {
      "cell_type": "markdown",
      "metadata": {
        "id": "Adxqi_wnTwQ5"
      },
      "source": [
        "Checking the Distribution of Test Dates for negative COVID-19 Cases"
      ]
    },
    {
      "cell_type": "code",
      "execution_count": 62,
      "metadata": {
        "colab": {
          "base_uri": "https://localhost:8080/",
          "height": 616
        },
        "id": "kmr7Tx8B0kuL",
        "outputId": "dfc48287-128f-480e-936d-ded50df25139"
      },
      "outputs": [
        {
          "output_type": "display_data",
          "data": {
            "text/plain": [
              "<Figure size 800x600 with 1 Axes>"
            ],
            "image/png": "[encoded data removed]"
          },
          "metadata": {}
        }
      ],
      "source": [
        "fig, ax = plt.subplots(figsize=(8,6))\n",
        "data[data['Corona']=='negative']['Test_date'].hist(ax=ax, bins=51)\n",
        "ax.set_xlabel('Test Date')\n",
        "ax.set_ylabel('Number of Patients')\n",
        "ax.set_title('Distribution of Test Dates for negative COVID-19 Cases')\n",
        "plt.xticks(rotation=45)\n",
        "plt.show()"
      ]
    },
    {
      "cell_type": "markdown",
      "metadata": {
        "id": "NSC-73l5T2xR"
      },
      "source": [
        "checking the positive and negative cases according to test dates"
      ]
    },
    {
      "cell_type": "code",
      "execution_count": 63,
      "metadata": {
        "colab": {
          "base_uri": "https://localhost:8080/",
          "height": 616
        },
        "id": "H7luM1Mv0kp2",
        "outputId": "417c6a0c-9df9-4caa-8e49-323fd7e52981"
      },
      "outputs": [
        {
          "output_type": "display_data",
          "data": {
            "text/plain": [
              "<Figure size 800x600 with 1 Axes>"
            ],
            "image/png": "[encoded data removed]"
          },
          "metadata": {}
        }
      ],
      "source": [
        "fig, ax = plt.subplots(figsize=(8,6))\n",
        "data[data['Corona']=='positive']['Test_date'].hist(ax=ax, bins=51, alpha=0.5, label='Positive Cases')\n",
        "data[data['Corona']=='negative']['Test_date'].hist(ax=ax, bins=51, alpha=0.5, label='Negative Cases')\n",
        "ax.set_xlabel('Test Date')\n",
        "ax.set_ylabel('Number of Patients')\n",
        "ax.set_title('Distribution of Test Dates for COVID-19 Cases')\n",
        "plt.xticks(rotation=45)\n",
        "ax.legend()\n",
        "plt.show()"
      ]
    },
    {
      "cell_type": "markdown",
      "metadata": {
        "id": "AfHEktJqUBOx"
      },
      "source": [
        "**Feature engineering**"
      ]
    },
    {
      "cell_type": "markdown",
      "metadata": {
        "id": "ecJJfcKAUUhi"
      },
      "source": [
        "we can drop the ind_id column "
      ]
    },
    {
      "cell_type": "code",
      "execution_count": 64,
      "metadata": {
        "id": "5BGbKzyFUbyB"
      },
      "outputs": [],
      "source": [
        "data = data.drop('Ind_ID', axis=1)"
      ]
    },
    {
      "cell_type": "markdown",
      "metadata": {
        "id": "vUkc7kLyVUeh"
      },
      "source": [
        "the Age_60_above has 125659 out of 278594 none values so i prefer dropping the column"
      ]
    },
    {
      "cell_type": "code",
      "execution_count": 65,
      "metadata": {
        "id": "02GS1_vmVoLQ"
      },
      "outputs": [],
      "source": [
        "data = data.drop('Age_60_above', axis=1)"
      ]
    },
    {
      "cell_type": "markdown",
      "metadata": {
        "id": "n6dOWvr_WdW5"
      },
      "source": [
        "Encoding the variables"
      ]
    },
    {
      "cell_type": "code",
      "execution_count": 66,
      "metadata": {
        "colab": {
          "base_uri": "https://localhost:8080/"
        },
        "id": "GOAXiHCa0kiq",
        "outputId": "dbd0098e-407b-4da5-df4b-2cebab5cef39"
      },
      "outputs": [
        {
          "output_type": "stream",
          "name": "stdout",
          "text": [
            "Test_date              datetime64[ns]\n",
            "Cough_symptoms                  int64\n",
            "Fever                           int64\n",
            "Sore_throat                     int64\n",
            "Shortness_of_breath             int64\n",
            "Headache                        int64\n",
            "Corona                          int64\n",
            "Sex                             int64\n",
            "Known_contact                   int64\n",
            "dtype: object\n"
          ]
        }
      ],
      "source": [
        "from sklearn.preprocessing import LabelEncoder\n",
        "\n",
        "\n",
        "# Encoding boolean variables as 0 or 1\n",
        "bool_cols = [\"Cough_symptoms\", \"Fever\", \"Sore_throat\", \"Shortness_of_breath\", \"Headache\"]\n",
        "data[bool_cols] = data[bool_cols].astype(int)\n",
        "\n",
        "# Encoding categorical variables using LabelEncoder\n",
        "cat_cols = [\"Corona\" , \"Sex\" , \"Known_contact\"]\n",
        "for col in cat_cols:\n",
        "    le = LabelEncoder()\n",
        "    data[col] = le.fit_transform(data[col])\n",
        "\n",
        "# Check the data types of each column\n",
        "print(data.dtypes)"
      ]
    },
    {
      "cell_type": "code",
      "execution_count": 67,
      "metadata": {
        "colab": {
          "base_uri": "https://localhost:8080/",
          "height": 206
        },
        "id": "tk49OFZ20br0",
        "outputId": "a8740739-bce4-458a-c13a-8d79b2ca1e9a"
      },
      "outputs": [
        {
          "output_type": "execute_result",
          "data": {
            "text/plain": [
              "   Test_date  Cough_symptoms  Fever  Sore_throat  Shortness_of_breath  \\\n",
              "0 2020-03-11               1      0            1                    0   \n",
              "1 2020-03-11               0      1            0                    0   \n",
              "2 2020-03-11               0      1            0                    0   \n",
              "3 2020-03-11               1      0            0                    0   \n",
              "4 2020-03-11               1      0            0                    0   \n",
              "\n",
              "   Headache  Corona  Sex  Known_contact  \n",
              "0         0       0    0              0  \n",
              "1         0       1    0              0  \n",
              "2         0       1    0              0  \n",
              "3         0       0    0              0  \n",
              "4         0       0    0              1  "
            ],
            "text/html": [
              "\n",
              "  <div id=\"df-224198ac-517c-4902-9cc0-40ce5c75dba2\">\n",
              "    <div class=\"colab-df-container\">\n",
              "      <div>\n",
              "<style scoped>\n",
              "    .dataframe tbody tr th:only-of-type {\n",
              "        vertical-align: middle;\n",
              "    }\n",
              "\n",
              "    .dataframe tbody tr th {\n",
              "        vertical-align: top;\n",
              "    }\n",
              "\n",
              "    .dataframe thead th {\n",
              "        text-align: right;\n",
              "    }\n",
              "</style>\n",
              "<table border=\"1\" class=\"dataframe\">\n",
              "  <thead>\n",
              "    <tr style=\"text-align: right;\">\n",
              "      <th></th>\n",
              "      <th>Test_date</th>\n",
              "      <th>Cough_symptoms</th>\n",
              "      <th>Fever</th>\n",
              "      <th>Sore_throat</th>\n",
              "      <th>Shortness_of_breath</th>\n",
              "      <th>Headache</th>\n",
              "      <th>Corona</th>\n",
              "      <th>Sex</th>\n",
              "      <th>Known_contact</th>\n",
              "    </tr>\n",
              "  </thead>\n",
              "  <tbody>\n",
              "    <tr>\n",
              "      <th>0</th>\n",
              "      <td>2020-03-11</td>\n",
              "      <td>1</td>\n",
              "      <td>0</td>\n",
              "      <td>1</td>\n",
              "      <td>0</td>\n",
              "      <td>0</td>\n",
              "      <td>0</td>\n",
              "      <td>0</td>\n",
              "      <td>0</td>\n",
              "    </tr>\n",
              "    <tr>\n",
              "      <th>1</th>\n",
              "      <td>2020-03-11</td>\n",
              "      <td>0</td>\n",
              "      <td>1</td>\n",
              "      <td>0</td>\n",
              "      <td>0</td>\n",
              "      <td>0</td>\n",
              "      <td>1</td>\n",
              "      <td>0</td>\n",
              "      <td>0</td>\n",
              "    </tr>\n",
              "    <tr>\n",
              "      <th>2</th>\n",
              "      <td>2020-03-11</td>\n",
              "      <td>0</td>\n",
              "      <td>1</td>\n",
              "      <td>0</td>\n",
              "      <td>0</td>\n",
              "      <td>0</td>\n",
              "      <td>1</td>\n",
              "      <td>0</td>\n",
              "      <td>0</td>\n",
              "    </tr>\n",
              "    <tr>\n",
              "      <th>3</th>\n",
              "      <td>2020-03-11</td>\n",
              "      <td>1</td>\n",
              "      <td>0</td>\n",
              "      <td>0</td>\n",
              "      <td>0</td>\n",
              "      <td>0</td>\n",
              "      <td>0</td>\n",
              "      <td>0</td>\n",
              "      <td>0</td>\n",
              "    </tr>\n",
              "    <tr>\n",
              "      <th>4</th>\n",
              "      <td>2020-03-11</td>\n",
              "      <td>1</td>\n",
              "      <td>0</td>\n",
              "      <td>0</td>\n",
              "      <td>0</td>\n",
              "      <td>0</td>\n",
              "      <td>0</td>\n",
              "      <td>0</td>\n",
              "      <td>1</td>\n",
              "    </tr>\n",
              "  </tbody>\n",
              "</table>\n",
              "</div>\n",
              "      <button class=\"colab-df-convert\" onclick=\"convertToInteractive('df-224198ac-517c-4902-9cc0-40ce5c75dba2')\"\n",
              "              title=\"Convert this dataframe to an interactive table.\"\n",
              "              style=\"display:none;\">\n",
              "        \n",
              "  <svg xmlns=\"http://www.w3.org/2000/svg\" height=\"24px\"viewBox=\"0 0 24 24\"\n",
              "       width=\"24px\">\n",
              "    <path d=\"M0 0h24v24H0V0z\" fill=\"none\"/>\n",
              "    <path d=\"M18.56 5.44l.94 2.06.94-2.06 2.06-.94-2.06-.94-.94-2.06-.94 2.06-2.06.94zm-11 1L8.5 8.5l.94-2.06 2.06-.94-2.06-.94L8.5 2.5l-.94 2.06-2.06.94zm10 10l.94 2.06.94-2.06 2.06-.94-2.06-.94-.94-2.06-.94 2.06-2.06.94z\"/><path d=\"M17.41 7.96l-1.37-1.37c-.4-.4-.92-.59-1.43-.59-.52 0-1.04.2-1.43.59L10.3 9.45l-7.72 7.72c-.78.78-.78 2.05 0 2.83L4 21.41c.39.39.9.59 1.41.59.51 0 1.02-.2 1.41-.59l7.78-7.78 2.81-2.81c.8-.78.8-2.07 0-2.86zM5.41 20L4 18.59l7.72-7.72 1.47 1.35L5.41 20z\"/>\n",
              "  </svg>\n",
              "      </button>\n",
              "      \n",
              "  <style>\n",
              "    .colab-df-container {\n",
              "      display:flex;\n",
              "      flex-wrap:wrap;\n",
              "      gap: 12px;\n",
              "    }\n",
              "\n",
              "    .colab-df-convert {\n",
              "      background-color: #E8F0FE;\n",
              "      border: none;\n",
              "      border-radius: 50%;\n",
              "      cursor: pointer;\n",
              "      display: none;\n",
              "      fill: #1967D2;\n",
              "      height: 32px;\n",
              "      padding: 0 0 0 0;\n",
              "      width: 32px;\n",
              "    }\n",
              "\n",
              "    .colab-df-convert:hover {\n",
              "      background-color: #E2EBFA;\n",
              "      box-shadow: 0px 1px 2px rgba(60, 64, 67, 0.3), 0px 1px 3px 1px rgba(60, 64, 67, 0.15);\n",
              "      fill: #174EA6;\n",
              "    }\n",
              "\n",
              "    [theme=dark] .colab-df-convert {\n",
              "      background-color: #3B4455;\n",
              "      fill: #D2E3FC;\n",
              "    }\n",
              "\n",
              "    [theme=dark] .colab-df-convert:hover {\n",
              "      background-color: #434B5C;\n",
              "      box-shadow: 0px 1px 3px 1px rgba(0, 0, 0, 0.15);\n",
              "      filter: drop-shadow(0px 1px 2px rgba(0, 0, 0, 0.3));\n",
              "      fill: #FFFFFF;\n",
              "    }\n",
              "  </style>\n",
              "\n",
              "      <script>\n",
              "        const buttonEl =\n",
              "          document.querySelector('#df-224198ac-517c-4902-9cc0-40ce5c75dba2 button.colab-df-convert');\n",
              "        buttonEl.style.display =\n",
              "          google.colab.kernel.accessAllowed ? 'block' : 'none';\n",
              "\n",
              "        async function convertToInteractive(key) {\n",
              "          const element = document.querySelector('#df-224198ac-517c-4902-9cc0-40ce5c75dba2');\n",
              "          const dataTable =\n",
              "            await google.colab.kernel.invokeFunction('convertToInteractive',\n",
              "                                                     [key], {});\n",
              "          if (!dataTable) return;\n",
              "\n",
              "          const docLinkHtml = 'Like what you see? Visit the ' +\n",
              "            '<a target=\"_blank\" href=https://colab.research.google.com/notebooks/data_table.ipynb>data table notebook</a>'\n",
              "            + ' to learn more about interactive tables.';\n",
              "          element.innerHTML = '';\n",
              "          dataTable['output_type'] = 'display_data';\n",
              "          await google.colab.output.renderOutput(dataTable, element);\n",
              "          const docLink = document.createElement('div');\n",
              "          docLink.innerHTML = docLinkHtml;\n",
              "          element.appendChild(docLink);\n",
              "        }\n",
              "      </script>\n",
              "    </div>\n",
              "  </div>\n",
              "  "
            ]
          },
          "metadata": {},
          "execution_count": 67
        }
      ],
      "source": [
        "data.head()"
      ]
    },
    {
      "cell_type": "markdown",
      "metadata": {
        "id": "GLH-Oe4nWudo"
      },
      "source": [
        "Checking the co-relation"
      ]
    },
    {
      "cell_type": "code",
      "execution_count": 68,
      "metadata": {
        "colab": {
          "base_uri": "https://localhost:8080/",
          "height": 355
        },
        "id": "rM4OE7c51nRg",
        "outputId": "59378e33-3a1d-4964-c452-79d2e6dfafe5"
      },
      "outputs": [
        {
          "output_type": "stream",
          "name": "stderr",
          "text": [
            "<ipython-input-68-c44ded798807>:1: FutureWarning: The default value of numeric_only in DataFrame.corr is deprecated. In a future version, it will default to False. Select only valid columns or specify the value of numeric_only to silence this warning.\n",
            "  data.corr()\n"
          ]
        },
        {
          "output_type": "execute_result",
          "data": {
            "text/plain": [
              "                     Cough_symptoms     Fever  Sore_throat  \\\n",
              "Cough_symptoms             1.000000  0.453797     0.115613   \n",
              "Fever                      0.453797  1.000000     0.122233   \n",
              "Sore_throat                0.115613  0.122233     1.000000   \n",
              "Shortness_of_breath        0.106330  0.125840     0.195181   \n",
              "Headache                   0.116730  0.169774     0.323343   \n",
              "Corona                     0.196763  0.266633     0.278462   \n",
              "Sex                        0.032681  0.032937    -0.016578   \n",
              "Known_contact             -0.571655 -0.348229    -0.088699   \n",
              "\n",
              "                     Shortness_of_breath  Headache    Corona       Sex  \\\n",
              "Cough_symptoms                  0.106330  0.116730  0.196763  0.032681   \n",
              "Fever                           0.125840  0.169774  0.266633  0.032937   \n",
              "Sore_throat                     0.195181  0.323343  0.278462 -0.016578   \n",
              "Shortness_of_breath             1.000000  0.202082  0.233417 -0.013875   \n",
              "Headache                        0.202082  1.000000  0.367324 -0.002297   \n",
              "Corona                          0.233417  0.367324  1.000000  0.022713   \n",
              "Sex                            -0.013875 -0.002297  0.022713  1.000000   \n",
              "Known_contact                  -0.074619 -0.091871 -0.211913 -0.027036   \n",
              "\n",
              "                     Known_contact  \n",
              "Cough_symptoms           -0.571655  \n",
              "Fever                    -0.348229  \n",
              "Sore_throat              -0.088699  \n",
              "Shortness_of_breath      -0.074619  \n",
              "Headache                 -0.091871  \n",
              "Corona                   -0.211913  \n",
              "Sex                      -0.027036  \n",
              "Known_contact             1.000000  "
            ],
            "text/html": [
              "\n",
              "  <div id=\"df-e1050939-67d7-49ae-9720-0fb5063a2869\">\n",
              "    <div class=\"colab-df-container\">\n",
              "      <div>\n",
              "<style scoped>\n",
              "    .dataframe tbody tr th:only-of-type {\n",
              "        vertical-align: middle;\n",
              "    }\n",
              "\n",
              "    .dataframe tbody tr th {\n",
              "        vertical-align: top;\n",
              "    }\n",
              "\n",
              "    .dataframe thead th {\n",
              "        text-align: right;\n",
              "    }\n",
              "</style>\n",
              "<table border=\"1\" class=\"dataframe\">\n",
              "  <thead>\n",
              "    <tr style=\"text-align: right;\">\n",
              "      <th></th>\n",
              "      <th>Cough_symptoms</th>\n",
              "      <th>Fever</th>\n",
              "      <th>Sore_throat</th>\n",
              "      <th>Shortness_of_breath</th>\n",
              "      <th>Headache</th>\n",
              "      <th>Corona</th>\n",
              "      <th>Sex</th>\n",
              "      <th>Known_contact</th>\n",
              "    </tr>\n",
              "  </thead>\n",
              "  <tbody>\n",
              "    <tr>\n",
              "      <th>Cough_symptoms</th>\n",
              "      <td>1.000000</td>\n",
              "      <td>0.453797</td>\n",
              "      <td>0.115613</td>\n",
              "      <td>0.106330</td>\n",
              "      <td>0.116730</td>\n",
              "      <td>0.196763</td>\n",
              "      <td>0.032681</td>\n",
              "      <td>-0.571655</td>\n",
              "    </tr>\n",
              "    <tr>\n",
              "      <th>Fever</th>\n",
              "      <td>0.453797</td>\n",
              "      <td>1.000000</td>\n",
              "      <td>0.122233</td>\n",
              "      <td>0.125840</td>\n",
              "      <td>0.169774</td>\n",
              "      <td>0.266633</td>\n",
              "      <td>0.032937</td>\n",
              "      <td>-0.348229</td>\n",
              "    </tr>\n",
              "    <tr>\n",
              "      <th>Sore_throat</th>\n",
              "      <td>0.115613</td>\n",
              "      <td>0.122233</td>\n",
              "      <td>1.000000</td>\n",
              "      <td>0.195181</td>\n",
              "      <td>0.323343</td>\n",
              "      <td>0.278462</td>\n",
              "      <td>-0.016578</td>\n",
              "      <td>-0.088699</td>\n",
              "    </tr>\n",
              "    <tr>\n",
              "      <th>Shortness_of_breath</th>\n",
              "      <td>0.106330</td>\n",
              "      <td>0.125840</td>\n",
              "      <td>0.195181</td>\n",
              "      <td>1.000000</td>\n",
              "      <td>0.202082</td>\n",
              "      <td>0.233417</td>\n",
              "      <td>-0.013875</td>\n",
              "      <td>-0.074619</td>\n",
              "    </tr>\n",
              "    <tr>\n",
              "      <th>Headache</th>\n",
              "      <td>0.116730</td>\n",
              "      <td>0.169774</td>\n",
              "      <td>0.323343</td>\n",
              "      <td>0.202082</td>\n",
              "      <td>1.000000</td>\n",
              "      <td>0.367324</td>\n",
              "      <td>-0.002297</td>\n",
              "      <td>-0.091871</td>\n",
              "    </tr>\n",
              "    <tr>\n",
              "      <th>Corona</th>\n",
              "      <td>0.196763</td>\n",
              "      <td>0.266633</td>\n",
              "      <td>0.278462</td>\n",
              "      <td>0.233417</td>\n",
              "      <td>0.367324</td>\n",
              "      <td>1.000000</td>\n",
              "      <td>0.022713</td>\n",
              "      <td>-0.211913</td>\n",
              "    </tr>\n",
              "    <tr>\n",
              "      <th>Sex</th>\n",
              "      <td>0.032681</td>\n",
              "      <td>0.032937</td>\n",
              "      <td>-0.016578</td>\n",
              "      <td>-0.013875</td>\n",
              "      <td>-0.002297</td>\n",
              "      <td>0.022713</td>\n",
              "      <td>1.000000</td>\n",
              "      <td>-0.027036</td>\n",
              "    </tr>\n",
              "    <tr>\n",
              "      <th>Known_contact</th>\n",
              "      <td>-0.571655</td>\n",
              "      <td>-0.348229</td>\n",
              "      <td>-0.088699</td>\n",
              "      <td>-0.074619</td>\n",
              "      <td>-0.091871</td>\n",
              "      <td>-0.211913</td>\n",
              "      <td>-0.027036</td>\n",
              "      <td>1.000000</td>\n",
              "    </tr>\n",
              "  </tbody>\n",
              "</table>\n",
              "</div>\n",
              "      <button class=\"colab-df-convert\" onclick=\"convertToInteractive('df-e1050939-67d7-49ae-9720-0fb5063a2869')\"\n",
              "              title=\"Convert this dataframe to an interactive table.\"\n",
              "              style=\"display:none;\">\n",
              "        \n",
              "  <svg xmlns=\"http://www.w3.org/2000/svg\" height=\"24px\"viewBox=\"0 0 24 24\"\n",
              "       width=\"24px\">\n",
              "    <path d=\"M0 0h24v24H0V0z\" fill=\"none\"/>\n",
              "    <path d=\"M18.56 5.44l.94 2.06.94-2.06 2.06-.94-2.06-.94-.94-2.06-.94 2.06-2.06.94zm-11 1L8.5 8.5l.94-2.06 2.06-.94-2.06-.94L8.5 2.5l-.94 2.06-2.06.94zm10 10l.94 2.06.94-2.06 2.06-.94-2.06-.94-.94-2.06-.94 2.06-2.06.94z\"/><path d=\"M17.41 7.96l-1.37-1.37c-.4-.4-.92-.59-1.43-.59-.52 0-1.04.2-1.43.59L10.3 9.45l-7.72 7.72c-.78.78-.78 2.05 0 2.83L4 21.41c.39.39.9.59 1.41.59.51 0 1.02-.2 1.41-.59l7.78-7.78 2.81-2.81c.8-.78.8-2.07 0-2.86zM5.41 20L4 18.59l7.72-7.72 1.47 1.35L5.41 20z\"/>\n",
              "  </svg>\n",
              "      </button>\n",
              "      \n",
              "  <style>\n",
              "    .colab-df-container {\n",
              "      display:flex;\n",
              "      flex-wrap:wrap;\n",
              "      gap: 12px;\n",
              "    }\n",
              "\n",
              "    .colab-df-convert {\n",
              "      background-color: #E8F0FE;\n",
              "      border: none;\n",
              "      border-radius: 50%;\n",
              "      cursor: pointer;\n",
              "      display: none;\n",
              "      fill: #1967D2;\n",
              "      height: 32px;\n",
              "      padding: 0 0 0 0;\n",
              "      width: 32px;\n",
              "    }\n",
              "\n",
              "    .colab-df-convert:hover {\n",
              "      background-color: #E2EBFA;\n",
              "      box-shadow: 0px 1px 2px rgba(60, 64, 67, 0.3), 0px 1px 3px 1px rgba(60, 64, 67, 0.15);\n",
              "      fill: #174EA6;\n",
              "    }\n",
              "\n",
              "    [theme=dark] .colab-df-convert {\n",
              "      background-color: #3B4455;\n",
              "      fill: #D2E3FC;\n",
              "    }\n",
              "\n",
              "    [theme=dark] .colab-df-convert:hover {\n",
              "      background-color: #434B5C;\n",
              "      box-shadow: 0px 1px 3px 1px rgba(0, 0, 0, 0.15);\n",
              "      filter: drop-shadow(0px 1px 2px rgba(0, 0, 0, 0.3));\n",
              "      fill: #FFFFFF;\n",
              "    }\n",
              "  </style>\n",
              "\n",
              "      <script>\n",
              "        const buttonEl =\n",
              "          document.querySelector('#df-e1050939-67d7-49ae-9720-0fb5063a2869 button.colab-df-convert');\n",
              "        buttonEl.style.display =\n",
              "          google.colab.kernel.accessAllowed ? 'block' : 'none';\n",
              "\n",
              "        async function convertToInteractive(key) {\n",
              "          const element = document.querySelector('#df-e1050939-67d7-49ae-9720-0fb5063a2869');\n",
              "          const dataTable =\n",
              "            await google.colab.kernel.invokeFunction('convertToInteractive',\n",
              "                                                     [key], {});\n",
              "          if (!dataTable) return;\n",
              "\n",
              "          const docLinkHtml = 'Like what you see? Visit the ' +\n",
              "            '<a target=\"_blank\" href=https://colab.research.google.com/notebooks/data_table.ipynb>data table notebook</a>'\n",
              "            + ' to learn more about interactive tables.';\n",
              "          element.innerHTML = '';\n",
              "          dataTable['output_type'] = 'display_data';\n",
              "          await google.colab.output.renderOutput(dataTable, element);\n",
              "          const docLink = document.createElement('div');\n",
              "          docLink.innerHTML = docLinkHtml;\n",
              "          element.appendChild(docLink);\n",
              "        }\n",
              "      </script>\n",
              "    </div>\n",
              "  </div>\n",
              "  "
            ]
          },
          "metadata": {},
          "execution_count": 68
        }
      ],
      "source": [
        "data.corr()"
      ]
    },
    {
      "cell_type": "code",
      "execution_count": 69,
      "metadata": {
        "colab": {
          "base_uri": "https://localhost:8080/",
          "height": 635
        },
        "id": "uhQGewLd0kew",
        "outputId": "18805fb9-8f08-4849-a46d-c524c2b71114"
      },
      "outputs": [
        {
          "output_type": "stream",
          "name": "stderr",
          "text": [
            "<ipython-input-69-7eed9bfd49a4>:1: FutureWarning: The default value of numeric_only in DataFrame.corr is deprecated. In a future version, it will default to False. Select only valid columns or specify the value of numeric_only to silence this warning.\n",
            "  sns.heatmap(data.corr(), cmap='coolwarm', annot=True)\n"
          ]
        },
        {
          "output_type": "execute_result",
          "data": {
            "text/plain": [
              "<Axes: >"
            ]
          },
          "metadata": {},
          "execution_count": 69
        },
        {
          "output_type": "display_data",
          "data": {
            "text/plain": [
              "<Figure size 640x480 with 2 Axes>"
            ],
            "image/png": "[encoded data removed]"
          },
          "metadata": {}
        }
      ],
      "source": [
        "sns.heatmap(data.corr(), cmap='coolwarm', annot=True)"
      ]
    },
    {
      "cell_type": "markdown",
      "metadata": {
        "id": "OMiTICQ029oW"
      },
      "source": [
        "To predict the 'Corona' column, we can perform feature selection by dropping columns that have low correlation with the 'Corona' column. From the correlation output provided, we can see that the 'Sex' column has a very low correlation with the 'Corona' column, so we can drop it from our features.\n",
        "\n",
        "We should also consider dropping the 'Known_contact' column, as it has a negative correlation with the 'Corona' column, which might suggest that it is not a strong predictor of Corona."
      ]
    },
    {
      "cell_type": "code",
      "execution_count": 70,
      "metadata": {
        "id": "68WsQftW0kdP"
      },
      "outputs": [],
      "source": [
        "data = data.drop(['Known_contact', 'Sex'], axis=1)"
      ]
    },
    {
      "cell_type": "code",
      "execution_count": 71,
      "metadata": {
        "colab": {
          "base_uri": "https://localhost:8080/"
        },
        "id": "PbaSpGkQ0kb6",
        "outputId": "540cb621-5578-4f1f-9593-21eac4f86e80"
      },
      "outputs": [
        {
          "output_type": "execute_result",
          "data": {
            "text/plain": [
              "(274702, 7)"
            ]
          },
          "metadata": {},
          "execution_count": 71
        }
      ],
      "source": [
        "data.shape"
      ]
    },
    {
      "cell_type": "markdown",
      "metadata": {
        "id": "dcAq031bW2hB"
      },
      "source": [
        "so , here is the encoded data "
      ]
    },
    {
      "cell_type": "code",
      "execution_count": 72,
      "metadata": {
        "colab": {
          "base_uri": "https://localhost:8080/",
          "height": 206
        },
        "id": "_HjHDWjM0kad",
        "outputId": "aeac2f8f-6ee3-4907-ad9f-8c701b9ef02e"
      },
      "outputs": [
        {
          "output_type": "execute_result",
          "data": {
            "text/plain": [
              "   Test_date  Cough_symptoms  Fever  Sore_throat  Shortness_of_breath  \\\n",
              "0 2020-03-11               1      0            1                    0   \n",
              "1 2020-03-11               0      1            0                    0   \n",
              "2 2020-03-11               0      1            0                    0   \n",
              "3 2020-03-11               1      0            0                    0   \n",
              "4 2020-03-11               1      0            0                    0   \n",
              "\n",
              "   Headache  Corona  \n",
              "0         0       0  \n",
              "1         0       1  \n",
              "2         0       1  \n",
              "3         0       0  \n",
              "4         0       0  "
            ],
            "text/html": [
              "\n",
              "  <div id=\"df-6c30dbb0-81c4-4537-8e75-347f9deae3b1\">\n",
              "    <div class=\"colab-df-container\">\n",
              "      <div>\n",
              "<style scoped>\n",
              "    .dataframe tbody tr th:only-of-type {\n",
              "        vertical-align: middle;\n",
              "    }\n",
              "\n",
              "    .dataframe tbody tr th {\n",
              "        vertical-align: top;\n",
              "    }\n",
              "\n",
              "    .dataframe thead th {\n",
              "        text-align: right;\n",
              "    }\n",
              "</style>\n",
              "<table border=\"1\" class=\"dataframe\">\n",
              "  <thead>\n",
              "    <tr style=\"text-align: right;\">\n",
              "      <th></th>\n",
              "      <th>Test_date</th>\n",
              "      <th>Cough_symptoms</th>\n",
              "      <th>Fever</th>\n",
              "      <th>Sore_throat</th>\n",
              "      <th>Shortness_of_breath</th>\n",
              "      <th>Headache</th>\n",
              "      <th>Corona</th>\n",
              "    </tr>\n",
              "  </thead>\n",
              "  <tbody>\n",
              "    <tr>\n",
              "      <th>0</th>\n",
              "      <td>2020-03-11</td>\n",
              "      <td>1</td>\n",
              "      <td>0</td>\n",
              "      <td>1</td>\n",
              "      <td>0</td>\n",
              "      <td>0</td>\n",
              "      <td>0</td>\n",
              "    </tr>\n",
              "    <tr>\n",
              "      <th>1</th>\n",
              "      <td>2020-03-11</td>\n",
              "      <td>0</td>\n",
              "      <td>1</td>\n",
              "      <td>0</td>\n",
              "      <td>0</td>\n",
              "      <td>0</td>\n",
              "      <td>1</td>\n",
              "    </tr>\n",
              "    <tr>\n",
              "      <th>2</th>\n",
              "      <td>2020-03-11</td>\n",
              "      <td>0</td>\n",
              "      <td>1</td>\n",
              "      <td>0</td>\n",
              "      <td>0</td>\n",
              "      <td>0</td>\n",
              "      <td>1</td>\n",
              "    </tr>\n",
              "    <tr>\n",
              "      <th>3</th>\n",
              "      <td>2020-03-11</td>\n",
              "      <td>1</td>\n",
              "      <td>0</td>\n",
              "      <td>0</td>\n",
              "      <td>0</td>\n",
              "      <td>0</td>\n",
              "      <td>0</td>\n",
              "    </tr>\n",
              "    <tr>\n",
              "      <th>4</th>\n",
              "      <td>2020-03-11</td>\n",
              "      <td>1</td>\n",
              "      <td>0</td>\n",
              "      <td>0</td>\n",
              "      <td>0</td>\n",
              "      <td>0</td>\n",
              "      <td>0</td>\n",
              "    </tr>\n",
              "  </tbody>\n",
              "</table>\n",
              "</div>\n",
              "      <button class=\"colab-df-convert\" onclick=\"convertToInteractive('df-6c30dbb0-81c4-4537-8e75-347f9deae3b1')\"\n",
              "              title=\"Convert this dataframe to an interactive table.\"\n",
              "              style=\"display:none;\">\n",
              "        \n",
              "  <svg xmlns=\"http://www.w3.org/2000/svg\" height=\"24px\"viewBox=\"0 0 24 24\"\n",
              "       width=\"24px\">\n",
              "    <path d=\"M0 0h24v24H0V0z\" fill=\"none\"/>\n",
              "    <path d=\"M18.56 5.44l.94 2.06.94-2.06 2.06-.94-2.06-.94-.94-2.06-.94 2.06-2.06.94zm-11 1L8.5 8.5l.94-2.06 2.06-.94-2.06-.94L8.5 2.5l-.94 2.06-2.06.94zm10 10l.94 2.06.94-2.06 2.06-.94-2.06-.94-.94-2.06-.94 2.06-2.06.94z\"/><path d=\"M17.41 7.96l-1.37-1.37c-.4-.4-.92-.59-1.43-.59-.52 0-1.04.2-1.43.59L10.3 9.45l-7.72 7.72c-.78.78-.78 2.05 0 2.83L4 21.41c.39.39.9.59 1.41.59.51 0 1.02-.2 1.41-.59l7.78-7.78 2.81-2.81c.8-.78.8-2.07 0-2.86zM5.41 20L4 18.59l7.72-7.72 1.47 1.35L5.41 20z\"/>\n",
              "  </svg>\n",
              "      </button>\n",
              "      \n",
              "  <style>\n",
              "    .colab-df-container {\n",
              "      display:flex;\n",
              "      flex-wrap:wrap;\n",
              "      gap: 12px;\n",
              "    }\n",
              "\n",
              "    .colab-df-convert {\n",
              "      background-color: #E8F0FE;\n",
              "      border: none;\n",
              "      border-radius: 50%;\n",
              "      cursor: pointer;\n",
              "      display: none;\n",
              "      fill: #1967D2;\n",
              "      height: 32px;\n",
              "      padding: 0 0 0 0;\n",
              "      width: 32px;\n",
              "    }\n",
              "\n",
              "    .colab-df-convert:hover {\n",
              "      background-color: #E2EBFA;\n",
              "      box-shadow: 0px 1px 2px rgba(60, 64, 67, 0.3), 0px 1px 3px 1px rgba(60, 64, 67, 0.15);\n",
              "      fill: #174EA6;\n",
              "    }\n",
              "\n",
              "    [theme=dark] .colab-df-convert {\n",
              "      background-color: #3B4455;\n",
              "      fill: #D2E3FC;\n",
              "    }\n",
              "\n",
              "    [theme=dark] .colab-df-convert:hover {\n",
              "      background-color: #434B5C;\n",
              "      box-shadow: 0px 1px 3px 1px rgba(0, 0, 0, 0.15);\n",
              "      filter: drop-shadow(0px 1px 2px rgba(0, 0, 0, 0.3));\n",
              "      fill: #FFFFFF;\n",
              "    }\n",
              "  </style>\n",
              "\n",
              "      <script>\n",
              "        const buttonEl =\n",
              "          document.querySelector('#df-6c30dbb0-81c4-4537-8e75-347f9deae3b1 button.colab-df-convert');\n",
              "        buttonEl.style.display =\n",
              "          google.colab.kernel.accessAllowed ? 'block' : 'none';\n",
              "\n",
              "        async function convertToInteractive(key) {\n",
              "          const element = document.querySelector('#df-6c30dbb0-81c4-4537-8e75-347f9deae3b1');\n",
              "          const dataTable =\n",
              "            await google.colab.kernel.invokeFunction('convertToInteractive',\n",
              "                                                     [key], {});\n",
              "          if (!dataTable) return;\n",
              "\n",
              "          const docLinkHtml = 'Like what you see? Visit the ' +\n",
              "            '<a target=\"_blank\" href=https://colab.research.google.com/notebooks/data_table.ipynb>data table notebook</a>'\n",
              "            + ' to learn more about interactive tables.';\n",
              "          element.innerHTML = '';\n",
              "          dataTable['output_type'] = 'display_data';\n",
              "          await google.colab.output.renderOutput(dataTable, element);\n",
              "          const docLink = document.createElement('div');\n",
              "          docLink.innerHTML = docLinkHtml;\n",
              "          element.appendChild(docLink);\n",
              "        }\n",
              "      </script>\n",
              "    </div>\n",
              "  </div>\n",
              "  "
            ]
          },
          "metadata": {},
          "execution_count": 72
        }
      ],
      "source": [
        "data.head()"
      ]
    },
    {
      "cell_type": "code",
      "execution_count": 73,
      "metadata": {
        "colab": {
          "base_uri": "https://localhost:8080/"
        },
        "id": "xFyEs5hw0kTd",
        "outputId": "77601a79-cd36-4d59-860a-747bf4c95976"
      },
      "outputs": [
        {
          "output_type": "stream",
          "name": "stdout",
          "text": [
            "<class 'pandas.core.frame.DataFrame'>\n",
            "Int64Index: 274702 entries, 0 to 278847\n",
            "Data columns (total 7 columns):\n",
            " #   Column               Non-Null Count   Dtype         \n",
            "---  ------               --------------   -----         \n",
            " 0   Test_date            274702 non-null  datetime64[ns]\n",
            " 1   Cough_symptoms       274702 non-null  int64         \n",
            " 2   Fever                274702 non-null  int64         \n",
            " 3   Sore_throat          274702 non-null  int64         \n",
            " 4   Shortness_of_breath  274702 non-null  int64         \n",
            " 5   Headache             274702 non-null  int64         \n",
            " 6   Corona               274702 non-null  int64         \n",
            "dtypes: datetime64[ns](1), int64(6)\n",
            "memory usage: 16.8 MB\n"
          ]
        }
      ],
      "source": [
        "data.info()"
      ]
    },
    {
      "cell_type": "markdown",
      "metadata": {
        "id": "i9LUqDN2kB89"
      },
      "source": [
        "**using SMOTE technique to handle the ombalanced dataset** "
      ]
    },
    {
      "cell_type": "code",
      "execution_count": 74,
      "metadata": {
        "id": "Wk04CtJikBDv"
      },
      "outputs": [],
      "source": [
        "X = data.drop(['Corona' , 'Test_date'],axis='columns')\n",
        "y = data['Corona']"
      ]
    },
    {
      "cell_type": "code",
      "source": [
        "from sklearn.model_selection import train_test_split\n",
        "X_train, X_test, y_train, y_test = train_test_split(X, y, test_size=0.2, random_state=15, stratify=y)"
      ],
      "metadata": {
        "id": "xPd_twjXKtT8"
      },
      "execution_count": 75,
      "outputs": []
    },
    {
      "cell_type": "code",
      "source": [
        "from sklearn.ensemble import RandomForestClassifier\n",
        "from sklearn.metrics import accuracy_score, precision_score, f1_score\n",
        "\n",
        "clf = RandomForestClassifier()\n",
        "\n",
        "clf.fit(X_train, y_train)\n",
        "\n",
        "y_pred = clf.predict(X_test)\n",
        "\n",
        "accuracy = accuracy_score(y_test, y_pred)\n",
        "precision = precision_score(y_test, y_pred)\n",
        "f1 = f1_score(y_test, y_pred)\n",
        "\n",
        "print(\"Accuracy:\", accuracy)\n",
        "print(\"Precision:\", precision)\n",
        "print(\"F1 score:\", f1)"
      ],
      "metadata": {
        "colab": {
          "base_uri": "https://localhost:8080/"
        },
        "id": "1OFq3d-hLKTb",
        "outputId": "227a7b66-3823-4f19-8fd0-feeb9f770500"
      },
      "execution_count": 76,
      "outputs": [
        {
          "output_type": "stream",
          "name": "stdout",
          "text": [
            "Accuracy: 0.9580277024444404\n",
            "Precision: 0.8443960826985855\n",
            "F1 score: 0.4022809745982375\n"
          ]
        }
      ]
    },
    {
      "cell_type": "code",
      "source": [
        "y.value_counts()"
      ],
      "metadata": {
        "colab": {
          "base_uri": "https://localhost:8080/"
        },
        "id": "1Micu4P67bwH",
        "outputId": "78357e9c-d0c4-4fb8-e1fa-37b46079b094"
      },
      "execution_count": 77,
      "outputs": [
        {
          "output_type": "execute_result",
          "data": {
            "text/plain": [
              "0    260008\n",
              "1     14694\n",
              "Name: Corona, dtype: int64"
            ]
          },
          "metadata": {},
          "execution_count": 77
        }
      ]
    },
    {
      "cell_type": "code",
      "source": [
        "from imblearn.over_sampling import SMOTE\n",
        "\n",
        "smote = SMOTE(sampling_strategy='minority')\n",
        "X, y = smote.fit_resample(X, y)\n",
        "\n",
        "y.value_counts()"
      ],
      "metadata": {
        "colab": {
          "base_uri": "https://localhost:8080/"
        },
        "id": "rQVLm5zY7avp",
        "outputId": "412a09e1-5f16-4ad8-b378-b2024eb2809c"
      },
      "execution_count": 78,
      "outputs": [
        {
          "output_type": "execute_result",
          "data": {
            "text/plain": [
              "0    260008\n",
              "1    260008\n",
              "Name: Corona, dtype: int64"
            ]
          },
          "metadata": {},
          "execution_count": 78
        }
      ]
    },
    {
      "cell_type": "code",
      "source": [
        "X.shape , y.shape"
      ],
      "metadata": {
        "colab": {
          "base_uri": "https://localhost:8080/"
        },
        "id": "tbuRaDYkpKBY",
        "outputId": "cd0e3e91-1581-4f85-8ace-c852970c30fc"
      },
      "execution_count": 79,
      "outputs": [
        {
          "output_type": "execute_result",
          "data": {
            "text/plain": [
              "((520016, 5), (520016,))"
            ]
          },
          "metadata": {},
          "execution_count": 79
        }
      ]
    },
    {
      "cell_type": "code",
      "source": [
        "X_train, X_test, y_train, y_test = train_test_split(X, y, test_size=0.2, random_state=15, stratify=y)"
      ],
      "metadata": {
        "id": "1CsSwypprOQL"
      },
      "execution_count": 82,
      "outputs": []
    },
    {
      "cell_type": "code",
      "source": [
        "from sklearn.ensemble import RandomForestClassifier\n",
        "from sklearn.metrics import accuracy_score, precision_score, f1_score, confusion_matrix\n",
        "import matplotlib.pyplot as plt\n",
        "import seaborn as sns\n",
        "\n",
        "# Train the model\n",
        "clf = RandomForestClassifier()\n",
        "clf.fit(X_train, y_train)\n",
        "\n",
        "# Test the model\n",
        "y_pred = clf.predict(X_test)\n",
        "\n",
        "# Calculate metrics\n",
        "accuracy = accuracy_score(y_test, y_pred)\n",
        "precision = precision_score(y_test, y_pred)\n",
        "f1 = f1_score(y_test, y_pred)\n",
        "cm = confusion_matrix(y_test, y_pred)\n",
        "\n",
        "# Print metrics\n",
        "print(\"Accuracy:\", accuracy)\n",
        "print(\"Precision:\", precision)\n",
        "print(\"F1 Score:\", f1)\n",
        "\n",
        "# Plot the confusion matrix\n",
        "sns.heatmap(cm, annot=True, cmap='Blues', fmt='g')\n",
        "plt.xlabel('Predicted labels')\n",
        "plt.ylabel('True labels')\n",
        "plt.show()\n"
      ],
      "metadata": {
        "colab": {
          "base_uri": "https://localhost:8080/",
          "height": 501
        },
        "id": "hXydu1GPsMIY",
        "outputId": "f7dd3210-e7a8-4314-917e-a95bbf1f3c29"
      },
      "execution_count": 84,
      "outputs": [
        {
          "output_type": "stream",
          "name": "stdout",
          "text": [
            "Accuracy: 0.7446540517672398\n",
            "Precision: 0.8096628940002434\n",
            "F1 Score: 0.7147077465166994\n"
          ]
        },
        {
          "output_type": "display_data",
          "data": {
            "text/plain": [
              "<Figure size 640x480 with 2 Axes>"
            ],
            "image/png": "[encoded data removed]"
          },
          "metadata": {}
        }
      ]
    }
  ],
  "metadata": {
    "colab": {
      "provenance": []
    },
    "kernelspec": {
      "display_name": "Python 3",
      "name": "python3"
    },
    "language_info": {
      "name": "python"
    }
  },
  "nbformat": 4,
  "nbformat_minor": 0
}